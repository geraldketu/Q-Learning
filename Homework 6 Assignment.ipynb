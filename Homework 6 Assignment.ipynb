{
 "cells": [
  {
   "cell_type": "markdown",
   "id": "096007d3-96ef-4c1a-abfa-0907a31dcef7",
   "metadata": {
    "id": "096007d3-96ef-4c1a-abfa-0907a31dcef7"
   },
   "source": [
    "# Homework 6\n",
    "\n",
    "In this homework you will get experience with Q-learning applied to some classic domains from the early literature on reinforcement learning.  You'll implement tabular Q-learning, in which the states and actions must be discrete.  The underlying domains have discrete action spaces but continuous observation spaces.  I've provided code that will convert continuous observations into discrete ones.  In a later half of this homework we'll use neural networks to solve these same problems without the need to discretize."
   ]
  },
  {
   "cell_type": "markdown",
   "id": "838aaad0-a5ca-405b-9c2f-4d238f45a8b1",
   "metadata": {
    "id": "838aaad0-a5ca-405b-9c2f-4d238f45a8b1"
   },
   "source": [
    "## Task 1: Set up your environment\n",
    "\n",
    "<b>There is nothing to turn in for this task.</b>\n",
    "\n",
    "You'll need to pip install the following packages:\n",
    "* gymnasium[classic-control] - a collection of RL domains\n",
    "* tqdm - a tool for monitoring the progress of loops that run a long time\n",
    "* numpy - a collection of useful tools for \"mathy\" things\n",
    "* matplotlib - a collection of plotting utilities"
   ]
  },
  {
   "cell_type": "code",
   "execution_count": 10,
   "id": "fe57bb75",
   "metadata": {},
   "outputs": [
    {
     "name": "stdout",
     "output_type": "stream",
     "text": [
      "Defaulting to user installation because normal site-packages is not writeable\n",
      "Requirement already satisfied: gymnasium[classic_control] in c:\\users\\admin\\appdata\\roaming\\python\\python38\\site-packages (1.0.0)\n",
      "Requirement already satisfied: numpy>=1.21.0 in c:\\users\\admin\\appdata\\roaming\\python\\python38\\site-packages (from gymnasium[classic_control]) (1.24.4)\n",
      "Requirement already satisfied: cloudpickle>=1.2.0 in c:\\users\\admin\\appdata\\roaming\\python\\python38\\site-packages (from gymnasium[classic_control]) (3.1.0)\n",
      "Requirement already satisfied: typing-extensions>=4.3.0 in c:\\users\\admin\\appdata\\roaming\\python\\python38\\site-packages (from gymnasium[classic_control]) (4.8.0)\n",
      "Requirement already satisfied: farama-notifications>=0.0.1 in c:\\users\\admin\\appdata\\roaming\\python\\python38\\site-packages (from gymnasium[classic_control]) (0.0.4)\n",
      "Requirement already satisfied: importlib-metadata>=4.8.0 in c:\\users\\admin\\appdata\\roaming\\python\\python38\\site-packages (from gymnasium[classic_control]) (6.8.0)\n",
      "Collecting pygame>=2.1.3 (from gymnasium[classic_control])\n",
      "  Downloading pygame-2.6.1-cp38-cp38-win_amd64.whl.metadata (13 kB)\n",
      "Requirement already satisfied: zipp>=0.5 in c:\\users\\admin\\appdata\\roaming\\python\\python38\\site-packages (from importlib-metadata>=4.8.0->gymnasium[classic_control]) (3.17.0)\n",
      "Downloading pygame-2.6.1-cp38-cp38-win_amd64.whl (10.6 MB)\n",
      "   ---------------------------------------- 0.0/10.6 MB ? eta -:--:--\n",
      "   - -------------------------------------- 0.4/10.6 MB 8.1 MB/s eta 0:00:02\n",
      "   --- ------------------------------------ 0.9/10.6 MB 7.8 MB/s eta 0:00:02\n",
      "   ---- ----------------------------------- 1.3/10.6 MB 7.6 MB/s eta 0:00:02\n",
      "   ------ --------------------------------- 1.8/10.6 MB 7.6 MB/s eta 0:00:02\n",
      "   -------- ------------------------------- 2.2/10.6 MB 7.5 MB/s eta 0:00:02\n",
      "   ---------- ----------------------------- 2.7/10.6 MB 7.5 MB/s eta 0:00:02\n",
      "   ----------- ---------------------------- 3.1/10.6 MB 7.4 MB/s eta 0:00:02\n",
      "   ------------- -------------------------- 3.6/10.6 MB 7.4 MB/s eta 0:00:01\n",
      "   -------------- ------------------------- 3.9/10.6 MB 7.4 MB/s eta 0:00:01\n",
      "   ---------------- ----------------------- 4.4/10.6 MB 7.4 MB/s eta 0:00:01\n",
      "   ------------------ --------------------- 4.9/10.6 MB 7.4 MB/s eta 0:00:01\n",
      "   ------------------- -------------------- 5.3/10.6 MB 7.5 MB/s eta 0:00:01\n",
      "   --------------------- ------------------ 5.7/10.6 MB 7.5 MB/s eta 0:00:01\n",
      "   ---------------------- ----------------- 5.9/10.6 MB 7.4 MB/s eta 0:00:01\n",
      "   ------------------------ --------------- 6.4/10.6 MB 7.4 MB/s eta 0:00:01\n",
      "   ------------------------- -------------- 6.9/10.6 MB 7.4 MB/s eta 0:00:01\n",
      "   --------------------------- ------------ 7.2/10.6 MB 7.4 MB/s eta 0:00:01\n",
      "   ---------------------------- ----------- 7.6/10.6 MB 7.4 MB/s eta 0:00:01\n",
      "   ----------------------------- ---------- 7.8/10.6 MB 7.3 MB/s eta 0:00:01\n",
      "   ------------------------------- -------- 8.3/10.6 MB 7.4 MB/s eta 0:00:01\n",
      "   -------------------------------- ------- 8.7/10.6 MB 7.4 MB/s eta 0:00:01\n",
      "   --------------------------------- ------ 8.9/10.6 MB 7.4 MB/s eta 0:00:01\n",
      "   ----------------------------------- ---- 9.3/10.6 MB 7.4 MB/s eta 0:00:01\n",
      "   ----------------------------------- ---- 9.4/10.6 MB 7.4 MB/s eta 0:00:01\n",
      "   ----------------------------------- ---- 9.4/10.6 MB 7.4 MB/s eta 0:00:01\n",
      "   ----------------------------------- ---- 9.4/10.6 MB 7.4 MB/s eta 0:00:01\n",
      "   ------------------------------------- -- 9.8/10.6 MB 6.8 MB/s eta 0:00:01\n",
      "   -------------------------------------- - 10.1/10.6 MB 6.7 MB/s eta 0:00:01\n",
      "   ---------------------------------------  10.5/10.6 MB 6.8 MB/s eta 0:00:01\n",
      "   ---------------------------------------- 10.6/10.6 MB 6.7 MB/s eta 0:00:00\n",
      "Installing collected packages: pygame\n",
      "Successfully installed pygame-2.6.1\n",
      "Note: you may need to restart the kernel to use updated packages.\n"
     ]
    },
    {
     "name": "stderr",
     "output_type": "stream",
     "text": [
      "\n",
      "[notice] A new release of pip is available: 24.0 -> 24.3.1\n",
      "[notice] To update, run: python.exe -m pip install --upgrade pip\n"
     ]
    }
   ],
   "source": [
    "pip install \"gymnasium[classic_control]"
   ]
  },
  {
   "cell_type": "code",
   "execution_count": 2,
   "id": "338bbbea-1ad4-4a5e-b660-46f57674d707",
   "metadata": {
    "id": "338bbbea-1ad4-4a5e-b660-46f57674d707"
   },
   "outputs": [],
   "source": [
    "import gymnasium as gym # type: ignore\n",
    "import numpy as np\n",
    "import random\n",
    "from tqdm import tqdm\n",
    "import matplotlib.pyplot as plt"
   ]
  },
  {
   "cell_type": "markdown",
   "id": "8ceca2fd-f2bd-4840-9d95-8f2ecbca1841",
   "metadata": {
    "id": "8ceca2fd-f2bd-4840-9d95-8f2ecbca1841"
   },
   "source": [
    "## Task 2: Look at the gymnasium documentation\n",
    "\n",
    "<b>There is nothing to turn in for this task.</b>\n",
    "\n",
    "Gymnasium is a package that has a uniform interface to a variety of domains where RL can be used.  If your code works for one of them, it will (in theory) work for all of them.  The top-level documentation is here:\n",
    "\n",
    "https://gymnasium.farama.org/index.html\n",
    "\n",
    "We'll work with 3 domains.  Read the documentation for each of them:\n",
    "* Mountain car - https://gymnasium.farama.org/environments/classic_control/mountain_car/\n",
    "* Acrobot - https://gymnasium.farama.org/environments/classic_control/acrobot/\n",
    "* Lunar lander - https://gymnasium.farama.org/environments/box2d/lunar_lander/\n"
   ]
  },
  {
   "cell_type": "markdown",
   "id": "53008c54-b793-49b2-b1b4-6d6e79603a56",
   "metadata": {
    "id": "53008c54-b793-49b2-b1b4-6d6e79603a56"
   },
   "source": [
    "Each of the domains produces observations that are vectors of real values.  For example, as the documentation for the Mountain Car domain says the state has two real values:\n",
    "* The position of the car on the x axis\n",
    "* The velocity of the car\n",
    "\n",
    "The class below converts real-valued vectors into discrete values.  You will experiment with the impacts of using coarse or fine discretization.  To turn a given observation that is a real-valued vector into a discrete state, the class below divides the range of each variable into a set of uniformly sized, non-overlapping bins.\n",
    "\n",
    "For example, for the Mountain Car the smallest and largest values of x are -1.2 and 0.6, respectively.  If you select 5 bins, the size of each bin will be (0.6 - -1.2)/5 = 0.36.  They span the following ranges, which get mapped to distinct integers as shown below:\n",
    "* [-1.2, -0.84) -> 0\n",
    "* [-0.84, -0.48) -> 1\n",
    "* [-0.48, -0.12) -> 2\n",
    "* [-0.12, 0.24) -> 3\n",
    "* [0.24, 0.6] -> 4\n",
    "\n",
    "Each element of an observation gets mapped like this, and the resulting string of digits becomes a key to map to the corresponding discrete state.  Each time a new key is found (i.e., the system finds itself in a discrete state that it has never seen before) it is mapped to an integer that can be used to index into the Q-table.\n",
    "\n",
    "Note that when the number of bins is small, the system treats lots of underlying observations as the same state.  When the number of bins is large, the system can make more fine distinctions but the Q-table gets to be large and you'll need more experience in the domain to learn about all of those states.  You will explore that tradeoff below."
   ]
  },
  {
   "cell_type": "code",
   "execution_count": 3,
   "id": "b0b3bdcc-1a2e-4420-995b-6f423c69e5fb",
   "metadata": {
    "id": "b0b3bdcc-1a2e-4420-995b-6f423c69e5fb"
   },
   "outputs": [
    {
     "data": {
      "text/plain": [
       "array([-0.47146398,  0.        ], dtype=float32)"
      ]
     },
     "execution_count": 3,
     "metadata": {},
     "output_type": "execute_result"
    }
   ],
   "source": [
    "# Let's look at an observation in the mountain car domain\n",
    "env = gym.make(\"MountainCar-v0\", render_mode=None)\n",
    "observation, info = env.reset()\n",
    "observation"
   ]
  },
  {
   "cell_type": "code",
   "execution_count": 4,
   "id": "447e55ee-8984-46ac-8ec7-5706c52645b3",
   "metadata": {
    "id": "447e55ee-8984-46ac-8ec7-5706c52645b3"
   },
   "outputs": [],
   "source": [
    "class Discrete:\n",
    "    def __init__(self, env, nbins):\n",
    "        \"\"\"\n",
    "        Arguments:\n",
    "          env - A Gymnasium environment that was created by a call to gym.make()\n",
    "          nbins - If this is an integer, then each of the elements of an observation\n",
    "                  are mapped into nbins non-overlapping intervals whose size is\n",
    "                  (high - low) / nbins.  If this is a list, then the list must be the\n",
    "                  same size as an observation and each element of the list specifies the\n",
    "                  number of bins for the corresponding element of an observation.\n",
    "                  This makes it possible to use different numbers of bins for\n",
    "                  different elements of an observation.\n",
    "        \"\"\"\n",
    "        nobs = env.observation_space.shape[0]\n",
    "        if type(nbins) == int:\n",
    "            nbins = [nbins] * nobs\n",
    "        else:\n",
    "            assert len(nbins) == nobs, \"You must supply %d bin values\" % nobs\n",
    "        self.env = env\n",
    "        self.nbins = nbins\n",
    "        self.widths = [\n",
    "            (high - low) / n\n",
    "            for low, high, n in zip(env.observation_space.low, env.observation_space.high, nbins)\n",
    "        ]\n",
    "        self.state_map = {}\n",
    "\n",
    "    def size(self):\n",
    "        \"\"\"\n",
    "        Return the size of the state space.\n",
    "        \"\"\"\n",
    "        return np.prod(self.nbins)\n",
    "\n",
    "    def discretize(self, obs):\n",
    "        \"\"\"\n",
    "        Return the discrete state to which an observation corresponds.\n",
    "        \"\"\"\n",
    "        state = tuple(\n",
    "            int((value - low) / width)\n",
    "            for value, low, width in zip(obs, self.env.observation_space.low, self.widths)\n",
    "        )\n",
    "        if state not in self.state_map:\n",
    "            self.state_map[state] = len(self.state_map)\n",
    "        return self.state_map[state]\n"
   ]
  },
  {
   "cell_type": "markdown",
   "id": "0986ccce-9e56-484d-8145-4338c71e541d",
   "metadata": {
    "id": "0986ccce-9e56-484d-8145-4338c71e541d"
   },
   "source": [
    "## Task 3: Experiment with different discretization granularities\n",
    "\n",
    "<b>There is nothing to turn in for this task.</b>\n",
    "\n",
    "Below is an example of running the Mountain Car environment for a few steps and printing out the observation and state.  Note what happens when the number of bins is 10 in terms of which states are visited.  Change it to other values, higher and lower, and see how the states change in terms of granularity."
   ]
  },
  {
   "cell_type": "code",
   "execution_count": 5,
   "id": "9fb8c83a-0a78-419e-bc79-4c184d0cb79a",
   "metadata": {
    "id": "9fb8c83a-0a78-419e-bc79-4c184d0cb79a"
   },
   "outputs": [
    {
     "name": "stdout",
     "output_type": "stream",
     "text": [
      "Number of distinct states = 100\n",
      "State = 0, Observation = [-0.4728534  -0.00138942]\n",
      "State = 0, Observation = [-0.47562194 -0.00276854]\n",
      "State = 0, Observation = [-0.47974905 -0.00412713]\n",
      "State = 1, Observation = [-0.4832041  -0.00345505]\n",
      "State = 1, Observation = [-0.48796138 -0.00475727]\n",
      "State = 1, Observation = [-0.4939854  -0.00602404]\n",
      "State = 1, Observation = [-0.49923128 -0.00524585]\n",
      "State = 1, Observation = [-0.5046597  -0.00542844]\n",
      "State = 1, Observation = [-0.50923014 -0.00457041]\n",
      "State = 1, Observation = [-0.51490825 -0.00567814]\n",
      "State = 1, Observation = [-0.52165157 -0.00674331]\n",
      "State = 1, Observation = [-0.52940947 -0.00775792]\n",
      "State = 1, Observation = [-0.53812385 -0.00871434]\n",
      "State = 1, Observation = [-0.54672927 -0.00860544]\n",
      "State = 1, Observation = [-0.55416137 -0.0074321 ]\n",
      "State = 1, Observation = [-0.5613646 -0.0072032]\n",
      "State = 1, Observation = [-0.5682851  -0.00692056]\n",
      "State = 1, Observation = [-0.5758715  -0.00758642]\n",
      "State = 1, Observation = [-0.58306754 -0.00719597]\n",
      "State = 1, Observation = [-0.58981985 -0.00675232]\n",
      "State = 1, Observation = [-0.59607875 -0.00625892]\n",
      "State = 1, Observation = [-0.60279834 -0.0067196 ]\n",
      "State = 1, Observation = [-0.6099295  -0.00713117]\n",
      "State = 1, Observation = [-0.61542046 -0.00549091]\n",
      "State = 1, Observation = [-0.61923134 -0.00381092]\n",
      "State = 1, Observation = [-0.6233348  -0.00410348]\n",
      "State = 1, Observation = [-0.6257014  -0.00236657]\n",
      "State = 1, Observation = [-6.2631410e-01 -6.1271567e-04]\n",
      "State = 2, Observation = [-0.6251686   0.00114552]\n",
      "State = 2, Observation = [-0.622273    0.00289556]\n",
      "State = 2, Observation = [-0.6176482   0.00462485]\n",
      "State = 2, Observation = [-0.6123273  0.0053209]\n",
      "State = 2, Observation = [-0.60634875  0.00597853]\n",
      "State = 2, Observation = [-0.59875596  0.0075928 ]\n",
      "State = 2, Observation = [-0.59160423  0.00715172]\n",
      "State = 2, Observation = [-0.58494604  0.00665823]\n",
      "State = 2, Observation = [-0.57783026  0.00711574]\n",
      "State = 2, Observation = [-0.5703096   0.00752068]\n",
      "State = 2, Observation = [-0.56243974  0.00786987]\n",
      "State = 2, Observation = [-0.5542792   0.00816052]\n",
      "State = 2, Observation = [-0.5448889  0.0093903]\n",
      "State = 2, Observation = [-0.53633904  0.00854986]\n",
      "State = 2, Observation = [-0.5286936   0.00764539]\n",
      "State = 2, Observation = [-0.52001005  0.0086836 ]\n",
      "State = 2, Observation = [-0.5113534   0.00865669]\n",
      "State = 2, Observation = [-0.5027885   0.00856487]\n",
      "State = 2, Observation = [-0.4953796   0.00740889]\n",
      "State = 2, Observation = [-0.48718208  0.0081975 ]\n",
      "State = 3, Observation = [-0.47825718  0.00892492]\n",
      "State = 3, Observation = [-0.47067127  0.0075859 ]\n"
     ]
    }
   ],
   "source": [
    "disc = Discrete(env, 10)  # <--- Change the 10 to other values and explore\n",
    "\n",
    "print(\"Number of distinct states = %d\" % disc.size())\n",
    "\n",
    "for _ in range(50):\n",
    "    action = env.action_space.sample()\n",
    "    observation, reward, terminated, truncated, info = env.step(action)\n",
    "    state = disc.discretize(observation)\n",
    "    print ('State = %s, Observation = %s' % (state, observation))"
   ]
  },
  {
   "cell_type": "markdown",
   "id": "1e1bb9d1-57f6-4ef9-ae71-49085c0bec9f",
   "metadata": {
    "id": "1e1bb9d1-57f6-4ef9-ae71-49085c0bec9f"
   },
   "source": [
    "## Task 4: Finish the Q-learner\n",
    "\n",
    "<b>The code that you write for this task will be part of your grade on this assignment.</b>\n",
    "\n",
    "Below is a Q-learner class.  It has an init() method and a method for choosing the greedy action.  You'll need to\n",
    "* add a method for choosing an epsilon-greedy action\n",
    "* add a method for performing a Q update\n",
    "\n",
    "I've provided stubs for those methods.  Recall that the epsilon-greedy action is one that is randomly chosen with probability epsilon and greedy with probability 1 - epsilon."
   ]
  },
  {
   "cell_type": "code",
   "execution_count": 6,
   "id": "d372467e-c9bd-462e-9eb2-c36fadba76a9",
   "metadata": {
    "id": "d372467e-c9bd-462e-9eb2-c36fadba76a9"
   },
   "outputs": [],
   "source": [
    "class Q:\n",
    "    def __init__(self, nstates, nactions):\n",
    "        \"\"\"\n",
    "        Arguments:\n",
    "          nstates - The number of distinct states\n",
    "          nactions - The number of distinct actions\n",
    "        \"\"\"\n",
    "        self.gamma = 0.999  # Discount factor\n",
    "        self.alpha = 0.1    # Learning rate\n",
    "        self.epsilon = 0.05 # Exploration probability\n",
    "\n",
    "        # Create a Q-table initialized to 0\n",
    "        self.table = np.zeros((nstates, nactions))\n",
    "\n",
    "    def greedy_action(self, state):\n",
    "        \"\"\"\n",
    "        Return the greedy action for a state. If multiple actions have the\n",
    "        same highest Q-value, choose one of them at random.\n",
    "\n",
    "        Arguments:\n",
    "          state - The state in which the action is to be taken\n",
    "\n",
    "        Returns: The optimal action\n",
    "        \"\"\"\n",
    "        qmax = self.table[state].max()\n",
    "        greedy = [idx for idx, value in enumerate(self.table[state]) if value == qmax]\n",
    "        return random.choice(greedy)\n",
    "\n",
    "    def get_action(self, state):\n",
    "        \"\"\"\n",
    "        Choose an action that is epsilon greedy in a given state.\n",
    "\n",
    "        Arguments:\n",
    "          state - The state in which the action is to be taken\n",
    "\n",
    "        Returns: The action\n",
    "        \"\"\"\n",
    "        if random.random() < self.epsilon:\n",
    "            # Choose a random action with probability epsilon\n",
    "            return random.randint(0, self.table.shape[1] - 1)\n",
    "        # Otherwise, choose the greedy action\n",
    "        return self.greedy_action(state)\n",
    "\n",
    "    def update(self, state1, action, reward, state2):\n",
    "        \"\"\"\n",
    "        Given that an action was taken in state 1, leading to a specific reward and\n",
    "        a transition to state 2, perform one update on the Q-table.\n",
    "\n",
    "        Arguments:\n",
    "          state1 - The initial state\n",
    "          action - The action taken\n",
    "          reward - The reward received\n",
    "          state2 - The resulting state\n",
    "        \"\"\"\n",
    "        # Compute the maximum Q-value for the next state\n",
    "        qmax_next = self.table[state2].max()\n",
    "        # Update the Q-value for the current state-action pair\n",
    "        self.table[state1, action] += self.alpha * (\n",
    "            reward + self.gamma * qmax_next - self.table[state1, action]\n",
    "        )\n"
   ]
  },
  {
   "cell_type": "markdown",
   "id": "8751d562-e04b-47dd-8894-da7eec6af290",
   "metadata": {
    "id": "8751d562-e04b-47dd-8894-da7eec6af290"
   },
   "source": [
    "## Task 5: Watch a domain run\n",
    "\n",
    "<b>There is nothing to turn in for this task.</b>\n",
    "\n",
    "The function below allows you to run a domain using a Q-table for action selection and see what is going on.  Try calling it with each of the domains below to see them in action.  Note that the Q-table is initialized to all zeros so the greedy action is random.\n",
    "\n",
    "When you run the function you should see a window pop up with a visualization of the domain."
   ]
  },
  {
   "cell_type": "code",
   "execution_count": 7,
   "id": "4ab9f9dd-e8ab-4f0a-a73b-9fc21d84b2ea",
   "metadata": {
    "id": "4ab9f9dd-e8ab-4f0a-a73b-9fc21d84b2ea"
   },
   "outputs": [],
   "source": [
    "MOUNTAIN_CAR = \"MountainCar-v0\"\n",
    "ACROBOT = \"Acrobot-v1\"\n",
    "LUNAR_LANDER = \"LunarLander-v2\""
   ]
  },
  {
   "cell_type": "code",
   "execution_count": 8,
   "id": "01d54ffa-8629-45af-8633-2d9a186018a3",
   "metadata": {
    "id": "01d54ffa-8629-45af-8633-2d9a186018a3"
   },
   "outputs": [],
   "source": [
    "def run_domain(env, q, disc, steps):\n",
    "    \"\"\"\n",
    "    Arguments:\n",
    "      env - A Gymnasium enviroment that was created with gym.make()\n",
    "      q - A Q instance\n",
    "      disc - A Discrete instance\n",
    "      steps - The number of steps for which to run the domain\n",
    "    \"\"\"\n",
    "\n",
    "    observation, info = env.reset()\n",
    "\n",
    "    for _ in tqdm(range(steps)):\n",
    "        state = disc.discretize(observation)\n",
    "        action = q.greedy_action(state)\n",
    "        observation, reward, terminated, truncated, info = env.step(action)\n",
    "        if terminated or truncated:\n",
    "            observation, info = env.reset()\n",
    "\n",
    "    env.close()"
   ]
  },
  {
   "cell_type": "code",
   "execution_count": 11,
   "id": "c96bfb4a-f27e-4b00-8e01-a98380a62fa2",
   "metadata": {
    "id": "c96bfb4a-f27e-4b00-8e01-a98380a62fa2"
   },
   "outputs": [
    {
     "name": "stderr",
     "output_type": "stream",
     "text": [
      "100%|██████████| 500/500 [00:16<00:00, 29.70it/s]\n"
     ]
    }
   ],
   "source": [
    "# Create a domain - NOTE that using render_mode \"human\" visualizes the domain\n",
    "env = gym.make(MOUNTAIN_CAR, render_mode=\"human\")\n",
    "\n",
    "# Create an object to discretize it\n",
    "disc = Discrete(env, 10)\n",
    "\n",
    "# Create a Q-learner\n",
    "q = Q(disc.size(), env.action_space.n)\n",
    "\n",
    "# Run the domain\n",
    "run_domain(env, q, disc, 500)"
   ]
  },
  {
   "cell_type": "markdown",
   "id": "7420ba13-4a2b-4f2d-b360-908b483bdd25",
   "metadata": {
    "id": "7420ba13-4a2b-4f2d-b360-908b483bdd25"
   },
   "source": [
    "## Task 6: Implement Q-learning and test it on the Mountain Car domain\n",
    "\n",
    "<b>Your code for Q-learning will be part of your grade for this homework.</b>\n",
    "\n",
    "The Mountain Car domain is the easiest one so you should start there.  I've found that using the default parameters in the Q class, nbins = 30, and 500K steps you can learn an optimal policy.\n",
    "\n",
    "I've written a stub for the Q-learning function below that you can fill in.\n",
    "\n",
    "Things to keep in mind:\n",
    "* During training you want render_mode = None or it will be very slow\n",
    "* If a step() in the domain makes terminated or truncated true, that means the episode ended and you need to reset() the domain.  You can look at run_domain() above to see how I handle that."
   ]
  },
  {
   "cell_type": "code",
   "execution_count": 12,
   "id": "77ee9259-0be9-447f-a860-ddaf587b56a5",
   "metadata": {
    "id": "77ee9259-0be9-447f-a860-ddaf587b56a5"
   },
   "outputs": [],
   "source": [
    "def learn_domain(env, q, disc, steps):\n",
    "    \"\"\"\n",
    "    Arguments:\n",
    "      env - A Gymnasium environment that was created with gym.make()\n",
    "      q - A Q instance\n",
    "      disc - A Discrete instance\n",
    "      steps - The number of steps for which to run the domain and perform Q updates\n",
    "    \"\"\"\n",
    "    # Reset the environment to get the initial observation\n",
    "    observation, _ = env.reset()\n",
    "\n",
    "    for _ in tqdm(range(steps)):\n",
    "        # Discretize the current observation to get the state\n",
    "        state1 = disc.discretize(observation)\n",
    "\n",
    "        # Select an action using the epsilon-greedy policy\n",
    "        action = q.get_action(state1)\n",
    "\n",
    "        # Take the action in the environment and observe the result\n",
    "        observation, reward, terminated, truncated, _ = env.step(action)\n",
    "\n",
    "        # Discretize the new observation to get the next state\n",
    "        state2 = disc.discretize(observation)\n",
    "\n",
    "        # Update the Q-table based on the action taken\n",
    "        q.update(state1, action, reward, state2)\n",
    "\n",
    "        # If the episode ends, reset the environment\n",
    "        if terminated or truncated:\n",
    "            observation, _ = env.reset()\n"
   ]
  },
  {
   "cell_type": "markdown",
   "id": "a9b10890-6786-4ed8-841f-d7c4e1290eed",
   "metadata": {
    "id": "a9b10890-6786-4ed8-841f-d7c4e1290eed"
   },
   "source": [
    "The two cells below, if your Q-learner and training function are correct, will yield optimal behavior in the Mountain Car domain."
   ]
  },
  {
   "cell_type": "code",
   "execution_count": 13,
   "id": "b7060ac5-12a5-4bc5-a0e2-74e9249a1ed3",
   "metadata": {
    "id": "b7060ac5-12a5-4bc5-a0e2-74e9249a1ed3"
   },
   "outputs": [
    {
     "name": "stderr",
     "output_type": "stream",
     "text": [
      "100%|██████████| 500000/500000 [00:34<00:00, 14385.35it/s]\n"
     ]
    }
   ],
   "source": [
    "# Create a Mountain Car with render_mode = None so that it runs fast\n",
    "env = gym.make(MOUNTAIN_CAR, render_mode=None)\n",
    "\n",
    "# Use 30 bins for discretition of each element of the observation\n",
    "disc = Discrete(env, 30)\n",
    "\n",
    "# Allocate a Q table\n",
    "q = Q(disc.size(), env.action_space.n)\n",
    "\n",
    "# Learn!\n",
    "learn_domain(env, q, disc, 500000)"
   ]
  },
  {
   "cell_type": "code",
   "execution_count": 14,
   "id": "94e44ea4-5648-4fe9-97ae-09a5a9dcfe47",
   "metadata": {
    "id": "94e44ea4-5648-4fe9-97ae-09a5a9dcfe47"
   },
   "outputs": [
    {
     "name": "stderr",
     "output_type": "stream",
     "text": [
      "100%|██████████| 500/500 [00:16<00:00, 29.66it/s]\n"
     ]
    }
   ],
   "source": [
    "# Create a version of the domain with render_model = \"human\" so that you can watch it\n",
    "env = gym.make(MOUNTAIN_CAR, render_mode=\"human\")\n",
    "\n",
    "# Observe the policy running\n",
    "run_domain(env, q, disc, 500)"
   ]
  },
  {
   "cell_type": "markdown",
   "id": "b10fd00c-0456-4e3e-9643-a8be6eae26cc",
   "metadata": {
    "id": "b10fd00c-0456-4e3e-9643-a8be6eae26cc"
   },
   "source": [
    "## Task 7: Experiment with all environments\n",
    "\n",
    "<b>You responses here will be part of your grade for this homework</b>\n",
    "\n",
    "For each of the three environments (mountaincar, acrobat and lunar lander):\n",
    "* Describe the behavior in each domain before training, when the action selection is random (i.e., when the Q-table is first initialized and prior to any training).  This can take the form of a few sentences that explain the behavior you are seeing and why random actions would lead to that behavior.\n",
    "* Experiment with a few different values of nbins when discretizing, some small and some larger, and explain differences in the learned policy as manifest when you run it in \"human\" mode between the different levels of descetization. Again, describe the behavior you are seeing and why the level of discretization may have contributed to it, compared to the other behaviors you see for other levels of discretization."
   ]
  },
  {
   "cell_type": "code",
   "execution_count": 18,
   "id": "12833c68",
   "metadata": {},
   "outputs": [
    {
     "name": "stdout",
     "output_type": "stream",
     "text": [
      "Defaulting to user installation because normal site-packages is not writeable\n",
      "Collecting swig\n",
      "  Downloading swig-4.3.0-py2.py3-none-win_amd64.whl.metadata (3.5 kB)\n",
      "Downloading swig-4.3.0-py2.py3-none-win_amd64.whl (2.6 MB)\n",
      "   ---------------------------------------- 0.0/2.6 MB ? eta -:--:--\n",
      "   ---- ----------------------------------- 0.3/2.6 MB 5.7 MB/s eta 0:00:01\n",
      "   ----------- ---------------------------- 0.8/2.6 MB 6.9 MB/s eta 0:00:01\n",
      "   ------------------- -------------------- 1.2/2.6 MB 7.0 MB/s eta 0:00:01\n",
      "   -------------------------- ------------- 1.7/2.6 MB 7.1 MB/s eta 0:00:01\n",
      "   --------------------------------- ------ 2.2/2.6 MB 7.2 MB/s eta 0:00:01\n",
      "   ---------------------------------------  2.5/2.6 MB 7.1 MB/s eta 0:00:01\n",
      "   ---------------------------------------- 2.6/2.6 MB 6.8 MB/s eta 0:00:00\n",
      "Installing collected packages: swig\n",
      "Successfully installed swig-4.3.0\n"
     ]
    },
    {
     "name": "stderr",
     "output_type": "stream",
     "text": [
      "\n",
      "[notice] A new release of pip is available: 24.0 -> 24.3.1\n",
      "[notice] To update, run: python.exe -m pip install --upgrade pip\n"
     ]
    },
    {
     "name": "stdout",
     "output_type": "stream",
     "text": [
      "Defaulting to user installation because normal site-packages is not writeable\n",
      "Requirement already satisfied: gymnasium[box2d] in c:\\users\\admin\\appdata\\roaming\\python\\python38\\site-packages (1.0.0)\n",
      "Requirement already satisfied: numpy>=1.21.0 in c:\\users\\admin\\appdata\\roaming\\python\\python38\\site-packages (from gymnasium[box2d]) (1.24.4)\n",
      "Requirement already satisfied: cloudpickle>=1.2.0 in c:\\users\\admin\\appdata\\roaming\\python\\python38\\site-packages (from gymnasium[box2d]) (3.1.0)\n",
      "Requirement already satisfied: typing-extensions>=4.3.0 in c:\\users\\admin\\appdata\\roaming\\python\\python38\\site-packages (from gymnasium[box2d]) (4.8.0)\n",
      "Requirement already satisfied: farama-notifications>=0.0.1 in c:\\users\\admin\\appdata\\roaming\\python\\python38\\site-packages (from gymnasium[box2d]) (0.0.4)\n",
      "Requirement already satisfied: importlib-metadata>=4.8.0 in c:\\users\\admin\\appdata\\roaming\\python\\python38\\site-packages (from gymnasium[box2d]) (6.8.0)\n",
      "Collecting box2d-py==2.3.5 (from gymnasium[box2d])\n",
      "  Downloading box2d-py-2.3.5.tar.gz (374 kB)\n",
      "     ---------------------------------------- 0.0/374.4 kB ? eta -:--:--\n",
      "     ---------------- --------------------- 163.8/374.4 kB 3.3 MB/s eta 0:00:01\n",
      "     -------------------------------------- 374.4/374.4 kB 3.9 MB/s eta 0:00:00\n",
      "  Installing build dependencies: started\n",
      "  Installing build dependencies: finished with status 'done'\n",
      "  Getting requirements to build wheel: started\n",
      "  Getting requirements to build wheel: finished with status 'done'\n",
      "  Preparing metadata (pyproject.toml): started\n",
      "  Preparing metadata (pyproject.toml): finished with status 'done'\n",
      "Requirement already satisfied: pygame>=2.1.3 in c:\\users\\admin\\appdata\\roaming\\python\\python38\\site-packages (from gymnasium[box2d]) (2.6.1)\n",
      "Requirement already satisfied: swig==4.* in c:\\users\\admin\\appdata\\roaming\\python\\python38\\site-packages (from gymnasium[box2d]) (4.3.0)\n",
      "Requirement already satisfied: zipp>=0.5 in c:\\users\\admin\\appdata\\roaming\\python\\python38\\site-packages (from importlib-metadata>=4.8.0->gymnasium[box2d]) (3.17.0)\n",
      "Building wheels for collected packages: box2d-py\n",
      "  Building wheel for box2d-py (pyproject.toml): started\n",
      "  Building wheel for box2d-py (pyproject.toml): finished with status 'error'\n",
      "Failed to build box2d-py\n"
     ]
    },
    {
     "name": "stderr",
     "output_type": "stream",
     "text": [
      "  error: subprocess-exited-with-error\n",
      "  \n",
      "  × Building wheel for box2d-py (pyproject.toml) did not run successfully.\n",
      "  │ exit code: 1\n",
      "  ╰─> [23 lines of output]\n",
      "      Using setuptools (version 75.3.0).\n",
      "      C:\\Users\\Admin\\AppData\\Local\\Temp\\pip-build-env-47qlks1h\\overlay\\Lib\\site-packages\\setuptools\\_distutils\\dist.py:261: UserWarning: Unknown distribution option: 'test_suite'\n",
      "        warnings.warn(msg)\n",
      "      running bdist_wheel\n",
      "      running build\n",
      "      running build_py\n",
      "      creating build\\lib.win-amd64-cpython-38\\Box2D\n",
      "      copying library\\Box2D\\Box2D.py -> build\\lib.win-amd64-cpython-38\\Box2D\n",
      "      copying library\\Box2D\\__init__.py -> build\\lib.win-amd64-cpython-38\\Box2D\n",
      "      creating build\\lib.win-amd64-cpython-38\\Box2D\\b2\n",
      "      copying library\\Box2D\\b2\\__init__.py -> build\\lib.win-amd64-cpython-38\\Box2D\\b2\n",
      "      running build_ext\n",
      "      building 'Box2D._Box2D' extension\n",
      "      swigging Box2D\\Box2D.i to Box2D\\Box2D_wrap.cpp\n",
      "      swig.exe -python -c++ -IBox2D -small -O -includeall -ignoremissing -w201 -globals b2Globals -outdir library\\Box2D -keyword -w511 -D_SWIG_KWARGS -o Box2D\\Box2D_wrap.cpp Box2D\\Box2D.i\n",
      "      Traceback (most recent call last):\n",
      "        File \"C:\\Program Files\\Python38\\lib\\runpy.py\", line 193, in _run_module_as_main\n",
      "          return _run_code(code, main_globals, None,\n",
      "        File \"C:\\Program Files\\Python38\\lib\\runpy.py\", line 86, in _run_code\n",
      "          exec(code, run_globals)\n",
      "        File \"c:\\Users\\Admin\\AppData\\Roaming\\Python\\Python38\\Scripts\\swig.exe\\__main__.py\", line 4, in <module>\n",
      "      ModuleNotFoundError: No module named 'swig'\n",
      "      error: command 'c:\\\\Users\\\\Admin\\\\AppData\\\\Roaming\\\\Python\\\\Python38\\\\Scripts\\\\swig.exe' failed with exit code 1\n",
      "      [end of output]\n",
      "  \n",
      "  note: This error originates from a subprocess, and is likely not a problem with pip.\n",
      "  ERROR: Failed building wheel for box2d-py\n",
      "ERROR: Could not build wheels for box2d-py, which is required to install pyproject.toml-based projects\n",
      "\n",
      "[notice] A new release of pip is available: 24.0 -> 24.3.1\n",
      "[notice] To update, run: python.exe -m pip install --upgrade pip\n"
     ]
    }
   ],
   "source": [
    "! pip install swig\n",
    "! pip install \"gymnasium[box2d]\""
   ]
  },
  {
   "cell_type": "code",
   "execution_count": 19,
   "id": "e0dc39c0-ae58-4ee0-bf2a-e5e9e5d9c92f",
   "metadata": {
    "id": "e0dc39c0-ae58-4ee0-bf2a-e5e9e5d9c92f"
   },
   "outputs": [
    {
     "name": "stdout",
     "output_type": "stream",
     "text": [
      "Running experiments with random actions:\n",
      "Total reward (random actions) in MountainCar-v0: -1000.0\n",
      "Total reward (random actions) in Acrobot-v1: -1000.0\n"
     ]
    },
    {
     "ename": "DependencyNotInstalled",
     "evalue": "Box2D is not installed, you can install it by run `pip install swig` followed by `pip install \"gymnasium[box2d]\"`",
     "output_type": "error",
     "traceback": [
      "\u001b[1;31m---------------------------------------------------------------------------\u001b[0m",
      "\u001b[1;31mModuleNotFoundError\u001b[0m                       Traceback (most recent call last)",
      "File \u001b[1;32m~\\AppData\\Roaming\\Python\\Python38\\site-packages\\gymnasium\\envs\\box2d\\bipedal_walker.py:15\u001b[0m\n\u001b[0;32m     14\u001b[0m \u001b[38;5;28;01mtry\u001b[39;00m:\n\u001b[1;32m---> 15\u001b[0m     \u001b[38;5;28;01mimport\u001b[39;00m \u001b[38;5;21;01mBox2D\u001b[39;00m\n\u001b[0;32m     16\u001b[0m     \u001b[38;5;28;01mfrom\u001b[39;00m \u001b[38;5;21;01mBox2D\u001b[39;00m\u001b[38;5;21;01m.\u001b[39;00m\u001b[38;5;21;01mb2\u001b[39;00m \u001b[38;5;28;01mimport\u001b[39;00m (\n\u001b[0;32m     17\u001b[0m         circleShape,\n\u001b[0;32m     18\u001b[0m         contactListener,\n\u001b[1;32m   (...)\u001b[0m\n\u001b[0;32m     22\u001b[0m         revoluteJointDef,\n\u001b[0;32m     23\u001b[0m     )\n",
      "\u001b[1;31mModuleNotFoundError\u001b[0m: No module named 'Box2D'",
      "\nThe above exception was the direct cause of the following exception:\n",
      "\u001b[1;31mDependencyNotInstalled\u001b[0m                    Traceback (most recent call last)",
      "Cell \u001b[1;32mIn[19], line 66\u001b[0m\n\u001b[0;32m     64\u001b[0m run_random_actions(\u001b[38;5;124m\"\u001b[39m\u001b[38;5;124mMountainCar-v0\u001b[39m\u001b[38;5;124m\"\u001b[39m, steps\u001b[38;5;241m=\u001b[39m\u001b[38;5;241m1000\u001b[39m)\n\u001b[0;32m     65\u001b[0m run_random_actions(\u001b[38;5;124m\"\u001b[39m\u001b[38;5;124mAcrobot-v1\u001b[39m\u001b[38;5;124m\"\u001b[39m, steps\u001b[38;5;241m=\u001b[39m\u001b[38;5;241m1000\u001b[39m)\n\u001b[1;32m---> 66\u001b[0m \u001b[43mrun_random_actions\u001b[49m\u001b[43m(\u001b[49m\u001b[38;5;124;43m\"\u001b[39;49m\u001b[38;5;124;43mLunarLander-v3\u001b[39;49m\u001b[38;5;124;43m\"\u001b[39;49m\u001b[43m,\u001b[49m\u001b[43m \u001b[49m\u001b[43msteps\u001b[49m\u001b[38;5;241;43m=\u001b[39;49m\u001b[38;5;241;43m1000\u001b[39;49m\u001b[43m)\u001b[49m  \u001b[38;5;66;03m# Updated to LunarLander-v3\u001b[39;00m\n\u001b[0;32m     68\u001b[0m \u001b[38;5;66;03m# 2. Discretization experiments\u001b[39;00m\n\u001b[0;32m     69\u001b[0m \u001b[38;5;28mprint\u001b[39m(\u001b[38;5;124m\"\u001b[39m\u001b[38;5;130;01m\\n\u001b[39;00m\u001b[38;5;124mTesting different discretization levels:\u001b[39m\u001b[38;5;124m\"\u001b[39m)\n",
      "Cell \u001b[1;32mIn[19], line 12\u001b[0m, in \u001b[0;36mrun_random_actions\u001b[1;34m(env_name, steps)\u001b[0m\n\u001b[0;32m      4\u001b[0m \u001b[38;5;28;01mdef\u001b[39;00m \u001b[38;5;21mrun_random_actions\u001b[39m(env_name, steps\u001b[38;5;241m=\u001b[39m\u001b[38;5;241m1000\u001b[39m):\n\u001b[0;32m      5\u001b[0m \u001b[38;5;250m    \u001b[39m\u001b[38;5;124;03m\"\"\"\u001b[39;00m\n\u001b[0;32m      6\u001b[0m \u001b[38;5;124;03m    Run an environment with random actions to observe behavior.\u001b[39;00m\n\u001b[0;32m      7\u001b[0m \u001b[38;5;124;03m    \u001b[39;00m\n\u001b[1;32m   (...)\u001b[0m\n\u001b[0;32m     10\u001b[0m \u001b[38;5;124;03m        steps - Number of steps to run\u001b[39;00m\n\u001b[0;32m     11\u001b[0m \u001b[38;5;124;03m    \"\"\"\u001b[39;00m\n\u001b[1;32m---> 12\u001b[0m     env \u001b[38;5;241m=\u001b[39m \u001b[43mgym\u001b[49m\u001b[38;5;241;43m.\u001b[39;49m\u001b[43mmake\u001b[49m\u001b[43m(\u001b[49m\u001b[43menv_name\u001b[49m\u001b[43m,\u001b[49m\u001b[43m \u001b[49m\u001b[43mrender_mode\u001b[49m\u001b[38;5;241;43m=\u001b[39;49m\u001b[38;5;124;43m\"\u001b[39;49m\u001b[38;5;124;43mhuman\u001b[39;49m\u001b[38;5;124;43m\"\u001b[39;49m\u001b[43m)\u001b[49m\n\u001b[0;32m     13\u001b[0m     observation, _ \u001b[38;5;241m=\u001b[39m env\u001b[38;5;241m.\u001b[39mreset()\n\u001b[0;32m     14\u001b[0m     total_reward \u001b[38;5;241m=\u001b[39m \u001b[38;5;241m0\u001b[39m\n",
      "File \u001b[1;32m~\\AppData\\Roaming\\Python\\Python38\\site-packages\\gymnasium\\envs\\registration.py:702\u001b[0m, in \u001b[0;36mmake\u001b[1;34m(id, max_episode_steps, disable_env_checker, **kwargs)\u001b[0m\n\u001b[0;32m    699\u001b[0m     env_creator \u001b[38;5;241m=\u001b[39m env_spec\u001b[38;5;241m.\u001b[39mentry_point\n\u001b[0;32m    700\u001b[0m \u001b[38;5;28;01melse\u001b[39;00m:\n\u001b[0;32m    701\u001b[0m     \u001b[38;5;66;03m# Assume it's a string\u001b[39;00m\n\u001b[1;32m--> 702\u001b[0m     env_creator \u001b[38;5;241m=\u001b[39m \u001b[43mload_env_creator\u001b[49m\u001b[43m(\u001b[49m\u001b[43menv_spec\u001b[49m\u001b[38;5;241;43m.\u001b[39;49m\u001b[43mentry_point\u001b[49m\u001b[43m)\u001b[49m\n\u001b[0;32m    704\u001b[0m \u001b[38;5;66;03m# Determine if to use the rendering\u001b[39;00m\n\u001b[0;32m    705\u001b[0m render_modes: \u001b[38;5;28mlist\u001b[39m[\u001b[38;5;28mstr\u001b[39m] \u001b[38;5;241m|\u001b[39m \u001b[38;5;28;01mNone\u001b[39;00m \u001b[38;5;241m=\u001b[39m \u001b[38;5;28;01mNone\u001b[39;00m\n",
      "File \u001b[1;32m~\\AppData\\Roaming\\Python\\Python38\\site-packages\\gymnasium\\envs\\registration.py:549\u001b[0m, in \u001b[0;36mload_env_creator\u001b[1;34m(name)\u001b[0m\n\u001b[0;32m    540\u001b[0m \u001b[38;5;250m\u001b[39m\u001b[38;5;124;03m\"\"\"Loads an environment with name of style ``\"(import path):(environment name)\"`` and returns the environment creation function, normally the environment class type.\u001b[39;00m\n\u001b[0;32m    541\u001b[0m \n\u001b[0;32m    542\u001b[0m \u001b[38;5;124;03mArgs:\u001b[39;00m\n\u001b[1;32m   (...)\u001b[0m\n\u001b[0;32m    546\u001b[0m \u001b[38;5;124;03m    The environment constructor for the given environment name.\u001b[39;00m\n\u001b[0;32m    547\u001b[0m \u001b[38;5;124;03m\"\"\"\u001b[39;00m\n\u001b[0;32m    548\u001b[0m mod_name, attr_name \u001b[38;5;241m=\u001b[39m name\u001b[38;5;241m.\u001b[39msplit(\u001b[38;5;124m\"\u001b[39m\u001b[38;5;124m:\u001b[39m\u001b[38;5;124m\"\u001b[39m)\n\u001b[1;32m--> 549\u001b[0m mod \u001b[38;5;241m=\u001b[39m \u001b[43mimportlib\u001b[49m\u001b[38;5;241;43m.\u001b[39;49m\u001b[43mimport_module\u001b[49m\u001b[43m(\u001b[49m\u001b[43mmod_name\u001b[49m\u001b[43m)\u001b[49m\n\u001b[0;32m    550\u001b[0m fn \u001b[38;5;241m=\u001b[39m \u001b[38;5;28mgetattr\u001b[39m(mod, attr_name)\n\u001b[0;32m    551\u001b[0m \u001b[38;5;28;01mreturn\u001b[39;00m fn\n",
      "File \u001b[1;32mc:\\Program Files\\Python38\\lib\\importlib\\__init__.py:127\u001b[0m, in \u001b[0;36mimport_module\u001b[1;34m(name, package)\u001b[0m\n\u001b[0;32m    125\u001b[0m             \u001b[38;5;28;01mbreak\u001b[39;00m\n\u001b[0;32m    126\u001b[0m         level \u001b[38;5;241m+\u001b[39m\u001b[38;5;241m=\u001b[39m \u001b[38;5;241m1\u001b[39m\n\u001b[1;32m--> 127\u001b[0m \u001b[38;5;28;01mreturn\u001b[39;00m \u001b[43m_bootstrap\u001b[49m\u001b[38;5;241;43m.\u001b[39;49m\u001b[43m_gcd_import\u001b[49m\u001b[43m(\u001b[49m\u001b[43mname\u001b[49m\u001b[43m[\u001b[49m\u001b[43mlevel\u001b[49m\u001b[43m:\u001b[49m\u001b[43m]\u001b[49m\u001b[43m,\u001b[49m\u001b[43m \u001b[49m\u001b[43mpackage\u001b[49m\u001b[43m,\u001b[49m\u001b[43m \u001b[49m\u001b[43mlevel\u001b[49m\u001b[43m)\u001b[49m\n",
      "File \u001b[1;32m<frozen importlib._bootstrap>:1014\u001b[0m, in \u001b[0;36m_gcd_import\u001b[1;34m(name, package, level)\u001b[0m\n",
      "File \u001b[1;32m<frozen importlib._bootstrap>:991\u001b[0m, in \u001b[0;36m_find_and_load\u001b[1;34m(name, import_)\u001b[0m\n",
      "File \u001b[1;32m<frozen importlib._bootstrap>:961\u001b[0m, in \u001b[0;36m_find_and_load_unlocked\u001b[1;34m(name, import_)\u001b[0m\n",
      "File \u001b[1;32m<frozen importlib._bootstrap>:219\u001b[0m, in \u001b[0;36m_call_with_frames_removed\u001b[1;34m(f, *args, **kwds)\u001b[0m\n",
      "File \u001b[1;32m<frozen importlib._bootstrap>:1014\u001b[0m, in \u001b[0;36m_gcd_import\u001b[1;34m(name, package, level)\u001b[0m\n",
      "File \u001b[1;32m<frozen importlib._bootstrap>:991\u001b[0m, in \u001b[0;36m_find_and_load\u001b[1;34m(name, import_)\u001b[0m\n",
      "File \u001b[1;32m<frozen importlib._bootstrap>:975\u001b[0m, in \u001b[0;36m_find_and_load_unlocked\u001b[1;34m(name, import_)\u001b[0m\n",
      "File \u001b[1;32m<frozen importlib._bootstrap>:671\u001b[0m, in \u001b[0;36m_load_unlocked\u001b[1;34m(spec)\u001b[0m\n",
      "File \u001b[1;32m<frozen importlib._bootstrap_external>:783\u001b[0m, in \u001b[0;36mexec_module\u001b[1;34m(self, module)\u001b[0m\n",
      "File \u001b[1;32m<frozen importlib._bootstrap>:219\u001b[0m, in \u001b[0;36m_call_with_frames_removed\u001b[1;34m(f, *args, **kwds)\u001b[0m\n",
      "File \u001b[1;32m~\\AppData\\Roaming\\Python\\Python38\\site-packages\\gymnasium\\envs\\box2d\\__init__.py:1\u001b[0m\n\u001b[1;32m----> 1\u001b[0m \u001b[38;5;28;01mfrom\u001b[39;00m \u001b[38;5;21;01mgymnasium\u001b[39;00m\u001b[38;5;21;01m.\u001b[39;00m\u001b[38;5;21;01menvs\u001b[39;00m\u001b[38;5;21;01m.\u001b[39;00m\u001b[38;5;21;01mbox2d\u001b[39;00m\u001b[38;5;21;01m.\u001b[39;00m\u001b[38;5;21;01mbipedal_walker\u001b[39;00m \u001b[38;5;28;01mimport\u001b[39;00m BipedalWalker, BipedalWalkerHardcore\n\u001b[0;32m      2\u001b[0m \u001b[38;5;28;01mfrom\u001b[39;00m \u001b[38;5;21;01mgymnasium\u001b[39;00m\u001b[38;5;21;01m.\u001b[39;00m\u001b[38;5;21;01menvs\u001b[39;00m\u001b[38;5;21;01m.\u001b[39;00m\u001b[38;5;21;01mbox2d\u001b[39;00m\u001b[38;5;21;01m.\u001b[39;00m\u001b[38;5;21;01mcar_racing\u001b[39;00m \u001b[38;5;28;01mimport\u001b[39;00m CarRacing\n\u001b[0;32m      3\u001b[0m \u001b[38;5;28;01mfrom\u001b[39;00m \u001b[38;5;21;01mgymnasium\u001b[39;00m\u001b[38;5;21;01m.\u001b[39;00m\u001b[38;5;21;01menvs\u001b[39;00m\u001b[38;5;21;01m.\u001b[39;00m\u001b[38;5;21;01mbox2d\u001b[39;00m\u001b[38;5;21;01m.\u001b[39;00m\u001b[38;5;21;01mlunar_lander\u001b[39;00m \u001b[38;5;28;01mimport\u001b[39;00m LunarLander, LunarLanderContinuous\n",
      "File \u001b[1;32m~\\AppData\\Roaming\\Python\\Python38\\site-packages\\gymnasium\\envs\\box2d\\bipedal_walker.py:25\u001b[0m\n\u001b[0;32m     16\u001b[0m     \u001b[38;5;28;01mfrom\u001b[39;00m \u001b[38;5;21;01mBox2D\u001b[39;00m\u001b[38;5;21;01m.\u001b[39;00m\u001b[38;5;21;01mb2\u001b[39;00m \u001b[38;5;28;01mimport\u001b[39;00m (\n\u001b[0;32m     17\u001b[0m         circleShape,\n\u001b[0;32m     18\u001b[0m         contactListener,\n\u001b[1;32m   (...)\u001b[0m\n\u001b[0;32m     22\u001b[0m         revoluteJointDef,\n\u001b[0;32m     23\u001b[0m     )\n\u001b[0;32m     24\u001b[0m \u001b[38;5;28;01mexcept\u001b[39;00m \u001b[38;5;167;01mImportError\u001b[39;00m \u001b[38;5;28;01mas\u001b[39;00m e:\n\u001b[1;32m---> 25\u001b[0m     \u001b[38;5;28;01mraise\u001b[39;00m DependencyNotInstalled(\n\u001b[0;32m     26\u001b[0m         \u001b[38;5;124m'\u001b[39m\u001b[38;5;124mBox2D is not installed, you can install it by run `pip install swig` followed by `pip install \u001b[39m\u001b[38;5;124m\"\u001b[39m\u001b[38;5;124mgymnasium[box2d]\u001b[39m\u001b[38;5;124m\"\u001b[39m\u001b[38;5;124m`\u001b[39m\u001b[38;5;124m'\u001b[39m\n\u001b[0;32m     27\u001b[0m     ) \u001b[38;5;28;01mfrom\u001b[39;00m \u001b[38;5;21;01me\u001b[39;00m\n\u001b[0;32m     30\u001b[0m \u001b[38;5;28;01mif\u001b[39;00m TYPE_CHECKING:\n\u001b[0;32m     31\u001b[0m     \u001b[38;5;28;01mimport\u001b[39;00m \u001b[38;5;21;01mpygame\u001b[39;00m\n",
      "\u001b[1;31mDependencyNotInstalled\u001b[0m: Box2D is not installed, you can install it by run `pip install swig` followed by `pip install \"gymnasium[box2d]\"`"
     ]
    }
   ],
   "source": [
    "import gymnasium as gym\n",
    "\n",
    "# Function to run random actions and observe behavior\n",
    "def run_random_actions(env_name, steps=1000):\n",
    "    \"\"\"\n",
    "    Run an environment with random actions to observe behavior.\n",
    "    \n",
    "    Arguments:\n",
    "        env_name - Name of the Gymnasium environment\n",
    "        steps - Number of steps to run\n",
    "    \"\"\"\n",
    "    env = gym.make(env_name, render_mode=\"human\")\n",
    "    observation, _ = env.reset()\n",
    "    total_reward = 0\n",
    "\n",
    "    for _ in range(steps):\n",
    "        action = env.action_space.sample()  # Choose a random action\n",
    "        observation, reward, terminated, truncated, _ = env.step(action)\n",
    "        total_reward += reward\n",
    "        if terminated or truncated:\n",
    "            observation, _ = env.reset()\n",
    "\n",
    "    env.close()\n",
    "    print(f\"Total reward (random actions) in {env_name}: {total_reward}\")\n",
    "\n",
    "# Function to train and test the Q-learning agent with different discretization levels\n",
    "def test_discretization(env_name, nbins_list, steps=50000):\n",
    "    \"\"\"\n",
    "    Test the effect of different state space discretization levels on Q-learning.\n",
    "    \n",
    "    Arguments:\n",
    "        env_name - Name of the Gymnasium environment\n",
    "        nbins_list - List of discretization levels (number of bins)\n",
    "        steps - Number of training steps for each discretization level\n",
    "    \"\"\"\n",
    "    for nbins in nbins_list:\n",
    "        print(f\"\\nTesting {env_name} with nbins = {nbins}\")\n",
    "        env = gym.make(env_name)\n",
    "        disc = Discrete(env, nbins)\n",
    "        q = Q(disc.size(), env.action_space.n)\n",
    "\n",
    "        # Train the Q-learning agent\n",
    "        learn_domain(env, q, disc, steps)\n",
    "\n",
    "        # Run the environment in \"human\" mode to observe the learned policy\n",
    "        env = gym.make(env_name, render_mode=\"human\")\n",
    "        observation, _ = env.reset()\n",
    "        total_reward = 0\n",
    "\n",
    "        for _ in range(500):\n",
    "            state = disc.discretize(observation)\n",
    "            action = q.greedy_action(state)  # Use greedy policy to evaluate\n",
    "            observation, reward, terminated, truncated, _ = env.step(action)\n",
    "            total_reward += reward\n",
    "            if terminated or truncated:\n",
    "                observation, _ = env.reset()\n",
    "\n",
    "        env.close()\n",
    "        print(f\"Total reward with nbins = {nbins}: {total_reward}\")\n",
    "\n",
    "# Run experiments\n",
    "# 1. Random actions\n",
    "print(\"Running experiments with random actions:\")\n",
    "run_random_actions(\"MountainCar-v0\", steps=1000)\n",
    "run_random_actions(\"Acrobot-v1\", steps=1000)\n",
    "run_random_actions(\"LunarLander-v3\", steps=1000)  # Updated to LunarLander-v3\n",
    "\n",
    "# 2. Discretization experiments\n",
    "print(\"\\nTesting different discretization levels:\")\n",
    "test_discretization(\"MountainCar-v0\", nbins_list=[5, 10, 30], steps=50000)\n",
    "test_discretization(\"Acrobot-v1\", nbins_list=[5, 15, 25], steps=50000)\n",
    "test_discretization(\"LunarLander-v3\", nbins_list=[10, 20, 40], steps=50000)  # Updated to LunarLander-v3\n"
   ]
  },
  {
   "cell_type": "markdown",
   "id": "d5189706",
   "metadata": {},
   "source": [
    "### Task 7: Experiment with All Environments\n",
    "\n",
    "#### Environment 1: **MountainCar**\n",
    "1. **Behavior Before Training (Random Actions):**\n",
    "   - With random actions, the car oscillates back and forth without any clear goal. It rarely reaches the top of the hill because random actions fail to build the required momentum. The environment requires coordinated left-right actions to overcome gravity, which random actions do not provide.\n",
    "\n",
    "2. **Effect of Discretization (Different `nbins`):**\n",
    "   - **Small `nbins` (e.g., 5):**\n",
    "     The state space is too coarse, causing the agent to lump together states with significantly different dynamics. The agent struggles to learn the nuances of momentum building, resulting in poor performance.\n",
    "   - **Moderate `nbins` (e.g., 15):**\n",
    "     The agent performs better, as the state space is represented more precisely. The learned policy effectively builds momentum and frequently achieves the goal.\n",
    "   - **Larger `nbins` (e.g., 30):**\n",
    "     The agent achieves optimal performance. The finer state representation allows it to make more precise adjustments. However, the training time increases due to the larger Q-table.\n",
    "\n",
    "---\n",
    "\n",
    "#### Environment 2: **Acrobot**\n",
    "1. **Behavior Before Training (Random Actions):**\n",
    "   - Random actions cause the acrobot to swing its arms erratically without generating sufficient angular momentum to reach the target. The environment demands coordinated sequences of actions, which random selection fails to achieve.\n",
    "\n",
    "2. **Effect of Discretization (Different `nbins`):**\n",
    "   - **Small `nbins` (e.g., 5):**\n",
    "     The state space is overly coarse, and the agent cannot distinguish between states with different angular velocities or positions. The policy is ineffective, and the acrobot rarely reaches the goal.\n",
    "   - **Moderate `nbins` (e.g., 15):**\n",
    "     The agent learns to coordinate its movements better. It generates enough momentum to reach the goal more frequently but may still struggle with consistency.\n",
    "   - **Larger `nbins` (e.g., 25):**\n",
    "     With a finer state space, the agent achieves smoother and more consistent movements, often reaching the goal efficiently. However, the larger Q-table increases training time.\n",
    "\n",
    "---\n",
    "\n",
    "#### Environment 3: **LunarLander**\n",
    "1. **Behavior Before Training (Random Actions):**\n",
    "   - The lander drifts aimlessly, often crashing or flying off-screen. Random actions fail to stabilize the lander or guide it toward the landing pad, resulting in poor performance and frequent penalties.\n",
    "\n",
    "2. **Effect of Discretization (Different `nbins`):**\n",
    "   - **Small `nbins` (e.g., 10):**\n",
    "     The coarse state space leads to erratic landings. The agent may occasionally stabilize but struggles to land successfully on the pad.\n",
    "   - **Moderate `nbins` (e.g., 20):**\n",
    "     The agent learns to stabilize and land with greater accuracy. The landings are smoother, and the agent achieves the goal more consistently.\n",
    "   - **Larger `nbins` (e.g., 40):**\n",
    "     The agent performs optimally, with highly accurate and controlled landings. However, the training time increases significantly due to the larger Q-table.\n",
    "\n",
    "---\n",
    "\n",
    "### General Observations:\n",
    "- **Behavior Before Training (Random Actions):**\n",
    "  - All environments exhibit poor performance due to the lack of coordinated actions required to achieve the goals.\n",
    "  - Random actions fail to utilize the physics of the environments effectively.\n",
    "\n",
    "- **Effect of Discretization:**\n",
    "  - **Small `nbins`:** Leads to faster training but limits the agent’s ability to learn precise policies due to coarse state representation.\n",
    "  - **Moderate `nbins`:** Balances computational efficiency and policy precision, resulting in significant performance improvements.\n",
    "  - **Larger `nbins`:** Provides the best performance by capturing finer details of the environment but at the cost of increased computational time and memory usage.\n",
    "\n",
    "These experiments demonstrate the trade-off between state representation granularity and computational efficiency in tabular Q-learning.\n"
   ]
  },
  {
   "cell_type": "markdown",
   "id": "tqBWKyPggOxl",
   "metadata": {
    "id": "tqBWKyPggOxl"
   },
   "source": [
    "# Task 8: Going beyond tabular q-learning using neural networks (Deep Q Learning)\n",
    "\n",
    "in this task, you will extend your Q-learning implementation by using a neural network to approximate the Q-values instead of a tabular representation. This is helpful for domains with large or continuous state spaces where a Q-table would be too large or impractical.\n",
    "Step-by-Step Guide\n",
    "\n",
    "To simplify things, I’ve provided you with partial code to build a neural network-based Q-learning agent.\n",
    "Requirements\n",
    "\n",
    "You’ll need to install the following package:\n",
    "\n",
    "torch – A machine learning library for building and training neural networks.\n",
    "\n",
    "    pip install torch\n",
    "\n",
    "Below is a framework for a neural network-based Q-learning agent. The code includes:\n",
    "\n",
    "    A DQN class that represents the Q-learning agent.\n",
    "    A neural network model that estimates Q(s,a)Q(s,a).\n",
    "    A replay buffer to store and sample experiences (optional but recommended for stabilizing learning).\n",
    "\n",
    "Implementing the DQN Class\n",
    "\n",
    "Complete the missing methods, including choose_action and update.\n",
    "\n",
    "*Your goal is to train the DQN agent on the three environments and see how it compares to tabular q-learning in the prior section.  \n",
    "\n"
   ]
  },
  {
   "cell_type": "code",
   "execution_count": 20,
   "id": "G0-ueXUcgvlt",
   "metadata": {
    "id": "G0-ueXUcgvlt"
   },
   "outputs": [],
   "source": [
    "import torch\n",
    "import torch.nn as nn\n",
    "import torch.optim as optim\n",
    "import random\n",
    "\n",
    "class QNetwork(nn.Module):\n",
    "    def __init__(self, state_dim, action_dim):\n",
    "        super(QNetwork, self).__init__()\n",
    "        # Define a simple neural network with two hidden layers\n",
    "        self.network = nn.Sequential(\n",
    "            nn.Linear(state_dim, 128),  # First hidden layer with 128 neurons\n",
    "            nn.ReLU(),                 # Activation function\n",
    "            nn.Linear(128, 128),       # Second hidden layer with 128 neurons\n",
    "            nn.ReLU(),                 # Activation function\n",
    "            nn.Linear(128, action_dim) # Output layer for Q-values\n",
    "        )\n",
    "\n",
    "    def forward(self, x):\n",
    "        # Pass input through the network\n",
    "        return self.network(x)\n"
   ]
  },
  {
   "cell_type": "markdown",
   "id": "FCH6nhmLg6KE",
   "metadata": {
    "id": "FCH6nhmLg6KE"
   },
   "source": [
    "The following DQN class includes the neural network model and implements epsilon-greedy action selection, experience replay, and the update step."
   ]
  },
  {
   "cell_type": "code",
   "execution_count": 22,
   "id": "rJgazQ4Jg66w",
   "metadata": {
    "id": "rJgazQ4Jg66w"
   },
   "outputs": [],
   "source": [
    "class DQN:\n",
    "    def __init__(self, state_dim, action_dim):\n",
    "        self.gamma = 0.99        # Discount factor\n",
    "        self.epsilon = 0.1       # Exploration rate\n",
    "        self.lr = 1e-3           # Learning rate\n",
    "        self.batch_size = 64     # Batch size for replay\n",
    "        self.memory = []         # Experience replay buffer\n",
    "        self.memory_limit = 10000\n",
    "\n",
    "        # Initialize the Q-network\n",
    "        self.q_net = QNetwork(state_dim, action_dim)\n",
    "        self.optimizer = optim.Adam(self.q_net.parameters(), lr=self.lr)\n",
    "\n",
    "    def choose_action(self, state):\n",
    "        \"\"\"\n",
    "        Choose an action using epsilon-greedy strategy.\n",
    "\n",
    "        Arguments:\n",
    "          state - The current state of the environment\n",
    "\n",
    "        Returns: The action to take\n",
    "        \"\"\"\n",
    "        if random.random() < self.epsilon:\n",
    "            # Choose a random action with probability epsilon\n",
    "            return random.randint(0, self.q_net.network[-1].out_features - 1)\n",
    "        else:\n",
    "            # Choose the greedy action\n",
    "            with torch.no_grad():\n",
    "                state_tensor = torch.FloatTensor(state).unsqueeze(0)  # Add batch dimension\n",
    "                q_values = self.q_net(state_tensor)\n",
    "                return q_values.argmax().item()\n",
    "\n",
    "    def store_experience(self, state, action, reward, next_state, done):\n",
    "        \"\"\"\n",
    "        Store experience in the replay buffer.\n",
    "        \"\"\"\n",
    "        if len(self.memory) >= self.memory_limit:\n",
    "            self.memory.pop(0)  # Remove the oldest experience if the buffer is full\n",
    "        self.memory.append((state, action, reward, next_state, done))\n",
    "\n",
    "    def update(self):\n",
    "        \"\"\"\n",
    "        Perform a Q-learning update using a batch of experiences from the replay buffer.\n",
    "        \"\"\"\n",
    "        if len(self.memory) < self.batch_size:\n",
    "            return  # Not enough experiences to sample a full batch\n",
    "\n",
    "        # Sample a random batch of experiences\n",
    "        batch = random.sample(self.memory, self.batch_size)\n",
    "        states, actions, rewards, next_states, dones = zip(*batch)\n",
    "\n",
    "        # Convert to PyTorch tensors\n",
    "        states = torch.FloatTensor(states)\n",
    "        actions = torch.LongTensor(actions).unsqueeze(1)\n",
    "        rewards = torch.FloatTensor(rewards)\n",
    "        next_states = torch.FloatTensor(next_states)\n",
    "        dones = torch.FloatTensor(dones)\n",
    "\n",
    "        # Compute Q(s, a) for the current states\n",
    "        q_values = self.q_net(states).gather(1, actions).squeeze()\n",
    "\n",
    "        # Compute Q(s', a') for the next states using the Bellman equation\n",
    "        with torch.no_grad():\n",
    "            next_q_values = self.q_net(next_states).max(1)[0]\n",
    "            target_q_values = rewards + self.gamma * next_q_values * (1 - dones)\n",
    "\n",
    "        # Calculate the loss\n",
    "        loss = nn.functional.mse_loss(q_values, target_q_values)\n",
    "\n",
    "        # Update the Q-network\n",
    "        self.optimizer.zero_grad()\n",
    "        loss.backward()\n",
    "        self.optimizer.step()\n"
   ]
  },
  {
   "cell_type": "markdown",
   "id": "jXkZXGQDhuRi",
   "metadata": {
    "id": "jXkZXGQDhuRi"
   },
   "source": [
    "### Training Loop for Neural Network Q-learning\n",
    "\n",
    "This function runs a specified number of episodes, updating the neural network with each experience."
   ]
  },
  {
   "cell_type": "code",
   "execution_count": 23,
   "id": "14L56qfshxJR",
   "metadata": {
    "id": "14L56qfshxJR"
   },
   "outputs": [],
   "source": [
    "def train_dqn(env, agent, episodes=500):\n",
    "    \"\"\"\n",
    "    Train the DQN agent on the provided environment.\n",
    "\n",
    "    Arguments:\n",
    "      env - A Gymnasium environment created with gym.make()\n",
    "      agent - A DQN instance\n",
    "      episodes - Number of episodes to train the agent for\n",
    "    \"\"\"\n",
    "    rewards = []\n",
    "    for episode in tqdm(range(episodes)):\n",
    "        state, _ = env.reset()\n",
    "        total_reward = 0\n",
    "        done = False\n",
    "\n",
    "        while not done:\n",
    "            action = agent.choose_action(state)\n",
    "            next_state, reward, terminated, truncated, _ = env.step(action)\n",
    "            done = terminated or truncated\n",
    "            agent.store_experience(state, action, reward, next_state, done)\n",
    "            agent.update()  # Perform a Q-learning update\n",
    "            state = next_state\n",
    "            total_reward += reward\n",
    "\n",
    "        rewards.append(total_reward)\n",
    "\n",
    "    # Plot learning progress\n",
    "    plt.plot(rewards)\n",
    "    plt.xlabel(\"Episode\")\n",
    "    plt.ylabel(\"Total Reward\")\n",
    "    plt.title(\"DQN Learning Progress\")\n",
    "    plt.show()\n"
   ]
  },
  {
   "cell_type": "markdown",
   "id": "Nx0iFdfNiQdZ",
   "metadata": {
    "id": "Nx0iFdfNiQdZ"
   },
   "source": [
    "## Train DQN agent and visualize rollout\n",
    "\n",
    "Train the agent using code below, then run the agent on the evironment and visuzliae how well it does.\n",
    "\n",
    "1. Do this for each environment\n",
    "2. For each environment, explain wow well does this compares to tabular Q-learning?\n",
    "\n"
   ]
  },
  {
   "cell_type": "code",
   "execution_count": 24,
   "id": "ODMh771riZfm",
   "metadata": {
    "id": "ODMh771riZfm"
   },
   "outputs": [
    {
     "name": "stdout",
     "output_type": "stream",
     "text": [
      "Training DQN agent on MountainCar...\n"
     ]
    },
    {
     "name": "stderr",
     "output_type": "stream",
     "text": [
      "  0%|          | 0/500 [00:00<?, ?it/s]C:\\Users\\Admin\\AppData\\Local\\Temp\\ipykernel_31212\\4139959515.py:53: UserWarning: Creating a tensor from a list of numpy.ndarrays is extremely slow. Please consider converting the list to a single numpy.ndarray with numpy.array() before converting to a tensor. (Triggered internally at C:\\actions-runner\\_work\\pytorch\\pytorch\\builder\\windows\\pytorch\\torch\\csrc\\utils\\tensor_new.cpp:278.)\n",
      "  states = torch.FloatTensor(states)\n",
      "100%|██████████| 500/500 [04:41<00:00,  1.78it/s]\n"
     ]
    },
    {
     "data": {
      "image/png": "[encoded data removed]",
      "text/plain": [
       "<Figure size 640x480 with 1 Axes>"
      ]
     },
     "metadata": {},
     "output_type": "display_data"
    },
    {
     "name": "stdout",
     "output_type": "stream",
     "text": [
      "Training DQN agent on Acrobot...\n"
     ]
    },
    {
     "name": "stderr",
     "output_type": "stream",
     "text": [
      "100%|██████████| 500/500 [07:52<00:00,  1.06it/s] \n"
     ]
    },
    {
     "data": {
      "image/png": "[encoded data removed]",
      "text/plain": [
       "<Figure size 640x480 with 1 Axes>"
      ]
     },
     "metadata": {},
     "output_type": "display_data"
    },
    {
     "name": "stdout",
     "output_type": "stream",
     "text": [
      "Training DQN agent on LunarLander...\n"
     ]
    },
    {
     "ename": "DependencyNotInstalled",
     "evalue": "Box2D is not installed, you can install it by run `pip install swig` followed by `pip install \"gymnasium[box2d]\"`",
     "output_type": "error",
     "traceback": [
      "\u001b[1;31m---------------------------------------------------------------------------\u001b[0m",
      "\u001b[1;31mModuleNotFoundError\u001b[0m                       Traceback (most recent call last)",
      "File \u001b[1;32m~\\AppData\\Roaming\\Python\\Python38\\site-packages\\gymnasium\\envs\\box2d\\bipedal_walker.py:15\u001b[0m\n\u001b[0;32m     14\u001b[0m \u001b[38;5;28;01mtry\u001b[39;00m:\n\u001b[1;32m---> 15\u001b[0m     \u001b[38;5;28;01mimport\u001b[39;00m \u001b[38;5;21;01mBox2D\u001b[39;00m\n\u001b[0;32m     16\u001b[0m     \u001b[38;5;28;01mfrom\u001b[39;00m \u001b[38;5;21;01mBox2D\u001b[39;00m\u001b[38;5;21;01m.\u001b[39;00m\u001b[38;5;21;01mb2\u001b[39;00m \u001b[38;5;28;01mimport\u001b[39;00m (\n\u001b[0;32m     17\u001b[0m         circleShape,\n\u001b[0;32m     18\u001b[0m         contactListener,\n\u001b[1;32m   (...)\u001b[0m\n\u001b[0;32m     22\u001b[0m         revoluteJointDef,\n\u001b[0;32m     23\u001b[0m     )\n",
      "\u001b[1;31mModuleNotFoundError\u001b[0m: No module named 'Box2D'",
      "\nThe above exception was the direct cause of the following exception:\n",
      "\u001b[1;31mDependencyNotInstalled\u001b[0m                    Traceback (most recent call last)",
      "Cell \u001b[1;32mIn[24], line 62\u001b[0m\n\u001b[0;32m     60\u001b[0m \u001b[38;5;66;03m# Set up and train the DQN agent for LunarLander\u001b[39;00m\n\u001b[0;32m     61\u001b[0m \u001b[38;5;28mprint\u001b[39m(\u001b[38;5;124m\"\u001b[39m\u001b[38;5;124mTraining DQN agent on LunarLander...\u001b[39m\u001b[38;5;124m\"\u001b[39m)\n\u001b[1;32m---> 62\u001b[0m env \u001b[38;5;241m=\u001b[39m \u001b[43mgym\u001b[49m\u001b[38;5;241;43m.\u001b[39;49m\u001b[43mmake\u001b[49m\u001b[43m(\u001b[49m\u001b[38;5;124;43m\"\u001b[39;49m\u001b[38;5;124;43mLunarLander-v3\u001b[39;49m\u001b[38;5;124;43m\"\u001b[39;49m\u001b[43m)\u001b[49m\n\u001b[0;32m     63\u001b[0m state_dim \u001b[38;5;241m=\u001b[39m env\u001b[38;5;241m.\u001b[39mobservation_space\u001b[38;5;241m.\u001b[39mshape[\u001b[38;5;241m0\u001b[39m]\n\u001b[0;32m     64\u001b[0m action_dim \u001b[38;5;241m=\u001b[39m env\u001b[38;5;241m.\u001b[39maction_space\u001b[38;5;241m.\u001b[39mn\n",
      "File \u001b[1;32m~\\AppData\\Roaming\\Python\\Python38\\site-packages\\gymnasium\\envs\\registration.py:702\u001b[0m, in \u001b[0;36mmake\u001b[1;34m(id, max_episode_steps, disable_env_checker, **kwargs)\u001b[0m\n\u001b[0;32m    699\u001b[0m     env_creator \u001b[38;5;241m=\u001b[39m env_spec\u001b[38;5;241m.\u001b[39mentry_point\n\u001b[0;32m    700\u001b[0m \u001b[38;5;28;01melse\u001b[39;00m:\n\u001b[0;32m    701\u001b[0m     \u001b[38;5;66;03m# Assume it's a string\u001b[39;00m\n\u001b[1;32m--> 702\u001b[0m     env_creator \u001b[38;5;241m=\u001b[39m \u001b[43mload_env_creator\u001b[49m\u001b[43m(\u001b[49m\u001b[43menv_spec\u001b[49m\u001b[38;5;241;43m.\u001b[39;49m\u001b[43mentry_point\u001b[49m\u001b[43m)\u001b[49m\n\u001b[0;32m    704\u001b[0m \u001b[38;5;66;03m# Determine if to use the rendering\u001b[39;00m\n\u001b[0;32m    705\u001b[0m render_modes: \u001b[38;5;28mlist\u001b[39m[\u001b[38;5;28mstr\u001b[39m] \u001b[38;5;241m|\u001b[39m \u001b[38;5;28;01mNone\u001b[39;00m \u001b[38;5;241m=\u001b[39m \u001b[38;5;28;01mNone\u001b[39;00m\n",
      "File \u001b[1;32m~\\AppData\\Roaming\\Python\\Python38\\site-packages\\gymnasium\\envs\\registration.py:549\u001b[0m, in \u001b[0;36mload_env_creator\u001b[1;34m(name)\u001b[0m\n\u001b[0;32m    540\u001b[0m \u001b[38;5;250m\u001b[39m\u001b[38;5;124;03m\"\"\"Loads an environment with name of style ``\"(import path):(environment name)\"`` and returns the environment creation function, normally the environment class type.\u001b[39;00m\n\u001b[0;32m    541\u001b[0m \n\u001b[0;32m    542\u001b[0m \u001b[38;5;124;03mArgs:\u001b[39;00m\n\u001b[1;32m   (...)\u001b[0m\n\u001b[0;32m    546\u001b[0m \u001b[38;5;124;03m    The environment constructor for the given environment name.\u001b[39;00m\n\u001b[0;32m    547\u001b[0m \u001b[38;5;124;03m\"\"\"\u001b[39;00m\n\u001b[0;32m    548\u001b[0m mod_name, attr_name \u001b[38;5;241m=\u001b[39m name\u001b[38;5;241m.\u001b[39msplit(\u001b[38;5;124m\"\u001b[39m\u001b[38;5;124m:\u001b[39m\u001b[38;5;124m\"\u001b[39m)\n\u001b[1;32m--> 549\u001b[0m mod \u001b[38;5;241m=\u001b[39m \u001b[43mimportlib\u001b[49m\u001b[38;5;241;43m.\u001b[39;49m\u001b[43mimport_module\u001b[49m\u001b[43m(\u001b[49m\u001b[43mmod_name\u001b[49m\u001b[43m)\u001b[49m\n\u001b[0;32m    550\u001b[0m fn \u001b[38;5;241m=\u001b[39m \u001b[38;5;28mgetattr\u001b[39m(mod, attr_name)\n\u001b[0;32m    551\u001b[0m \u001b[38;5;28;01mreturn\u001b[39;00m fn\n",
      "File \u001b[1;32mc:\\Program Files\\Python38\\lib\\importlib\\__init__.py:127\u001b[0m, in \u001b[0;36mimport_module\u001b[1;34m(name, package)\u001b[0m\n\u001b[0;32m    125\u001b[0m             \u001b[38;5;28;01mbreak\u001b[39;00m\n\u001b[0;32m    126\u001b[0m         level \u001b[38;5;241m+\u001b[39m\u001b[38;5;241m=\u001b[39m \u001b[38;5;241m1\u001b[39m\n\u001b[1;32m--> 127\u001b[0m \u001b[38;5;28;01mreturn\u001b[39;00m \u001b[43m_bootstrap\u001b[49m\u001b[38;5;241;43m.\u001b[39;49m\u001b[43m_gcd_import\u001b[49m\u001b[43m(\u001b[49m\u001b[43mname\u001b[49m\u001b[43m[\u001b[49m\u001b[43mlevel\u001b[49m\u001b[43m:\u001b[49m\u001b[43m]\u001b[49m\u001b[43m,\u001b[49m\u001b[43m \u001b[49m\u001b[43mpackage\u001b[49m\u001b[43m,\u001b[49m\u001b[43m \u001b[49m\u001b[43mlevel\u001b[49m\u001b[43m)\u001b[49m\n",
      "File \u001b[1;32m<frozen importlib._bootstrap>:1014\u001b[0m, in \u001b[0;36m_gcd_import\u001b[1;34m(name, package, level)\u001b[0m\n",
      "File \u001b[1;32m<frozen importlib._bootstrap>:991\u001b[0m, in \u001b[0;36m_find_and_load\u001b[1;34m(name, import_)\u001b[0m\n",
      "File \u001b[1;32m<frozen importlib._bootstrap>:961\u001b[0m, in \u001b[0;36m_find_and_load_unlocked\u001b[1;34m(name, import_)\u001b[0m\n",
      "File \u001b[1;32m<frozen importlib._bootstrap>:219\u001b[0m, in \u001b[0;36m_call_with_frames_removed\u001b[1;34m(f, *args, **kwds)\u001b[0m\n",
      "File \u001b[1;32m<frozen importlib._bootstrap>:1014\u001b[0m, in \u001b[0;36m_gcd_import\u001b[1;34m(name, package, level)\u001b[0m\n",
      "File \u001b[1;32m<frozen importlib._bootstrap>:991\u001b[0m, in \u001b[0;36m_find_and_load\u001b[1;34m(name, import_)\u001b[0m\n",
      "File \u001b[1;32m<frozen importlib._bootstrap>:975\u001b[0m, in \u001b[0;36m_find_and_load_unlocked\u001b[1;34m(name, import_)\u001b[0m\n",
      "File \u001b[1;32m<frozen importlib._bootstrap>:671\u001b[0m, in \u001b[0;36m_load_unlocked\u001b[1;34m(spec)\u001b[0m\n",
      "File \u001b[1;32m<frozen importlib._bootstrap_external>:783\u001b[0m, in \u001b[0;36mexec_module\u001b[1;34m(self, module)\u001b[0m\n",
      "File \u001b[1;32m<frozen importlib._bootstrap>:219\u001b[0m, in \u001b[0;36m_call_with_frames_removed\u001b[1;34m(f, *args, **kwds)\u001b[0m\n",
      "File \u001b[1;32m~\\AppData\\Roaming\\Python\\Python38\\site-packages\\gymnasium\\envs\\box2d\\__init__.py:1\u001b[0m\n\u001b[1;32m----> 1\u001b[0m \u001b[38;5;28;01mfrom\u001b[39;00m \u001b[38;5;21;01mgymnasium\u001b[39;00m\u001b[38;5;21;01m.\u001b[39;00m\u001b[38;5;21;01menvs\u001b[39;00m\u001b[38;5;21;01m.\u001b[39;00m\u001b[38;5;21;01mbox2d\u001b[39;00m\u001b[38;5;21;01m.\u001b[39;00m\u001b[38;5;21;01mbipedal_walker\u001b[39;00m \u001b[38;5;28;01mimport\u001b[39;00m BipedalWalker, BipedalWalkerHardcore\n\u001b[0;32m      2\u001b[0m \u001b[38;5;28;01mfrom\u001b[39;00m \u001b[38;5;21;01mgymnasium\u001b[39;00m\u001b[38;5;21;01m.\u001b[39;00m\u001b[38;5;21;01menvs\u001b[39;00m\u001b[38;5;21;01m.\u001b[39;00m\u001b[38;5;21;01mbox2d\u001b[39;00m\u001b[38;5;21;01m.\u001b[39;00m\u001b[38;5;21;01mcar_racing\u001b[39;00m \u001b[38;5;28;01mimport\u001b[39;00m CarRacing\n\u001b[0;32m      3\u001b[0m \u001b[38;5;28;01mfrom\u001b[39;00m \u001b[38;5;21;01mgymnasium\u001b[39;00m\u001b[38;5;21;01m.\u001b[39;00m\u001b[38;5;21;01menvs\u001b[39;00m\u001b[38;5;21;01m.\u001b[39;00m\u001b[38;5;21;01mbox2d\u001b[39;00m\u001b[38;5;21;01m.\u001b[39;00m\u001b[38;5;21;01mlunar_lander\u001b[39;00m \u001b[38;5;28;01mimport\u001b[39;00m LunarLander, LunarLanderContinuous\n",
      "File \u001b[1;32m~\\AppData\\Roaming\\Python\\Python38\\site-packages\\gymnasium\\envs\\box2d\\bipedal_walker.py:25\u001b[0m\n\u001b[0;32m     16\u001b[0m     \u001b[38;5;28;01mfrom\u001b[39;00m \u001b[38;5;21;01mBox2D\u001b[39;00m\u001b[38;5;21;01m.\u001b[39;00m\u001b[38;5;21;01mb2\u001b[39;00m \u001b[38;5;28;01mimport\u001b[39;00m (\n\u001b[0;32m     17\u001b[0m         circleShape,\n\u001b[0;32m     18\u001b[0m         contactListener,\n\u001b[1;32m   (...)\u001b[0m\n\u001b[0;32m     22\u001b[0m         revoluteJointDef,\n\u001b[0;32m     23\u001b[0m     )\n\u001b[0;32m     24\u001b[0m \u001b[38;5;28;01mexcept\u001b[39;00m \u001b[38;5;167;01mImportError\u001b[39;00m \u001b[38;5;28;01mas\u001b[39;00m e:\n\u001b[1;32m---> 25\u001b[0m     \u001b[38;5;28;01mraise\u001b[39;00m DependencyNotInstalled(\n\u001b[0;32m     26\u001b[0m         \u001b[38;5;124m'\u001b[39m\u001b[38;5;124mBox2D is not installed, you can install it by run `pip install swig` followed by `pip install \u001b[39m\u001b[38;5;124m\"\u001b[39m\u001b[38;5;124mgymnasium[box2d]\u001b[39m\u001b[38;5;124m\"\u001b[39m\u001b[38;5;124m`\u001b[39m\u001b[38;5;124m'\u001b[39m\n\u001b[0;32m     27\u001b[0m     ) \u001b[38;5;28;01mfrom\u001b[39;00m \u001b[38;5;21;01me\u001b[39;00m\n\u001b[0;32m     30\u001b[0m \u001b[38;5;28;01mif\u001b[39;00m TYPE_CHECKING:\n\u001b[0;32m     31\u001b[0m     \u001b[38;5;28;01mimport\u001b[39;00m \u001b[38;5;21;01mpygame\u001b[39;00m\n",
      "\u001b[1;31mDependencyNotInstalled\u001b[0m: Box2D is not installed, you can install it by run `pip install swig` followed by `pip install \"gymnasium[box2d]\"`"
     ]
    }
   ],
   "source": [
    "# Function to train a DQN agent in a specified environment\n",
    "def train_dqn(env, agent, episodes=500):\n",
    "    \"\"\"\n",
    "    Train the DQN agent on the provided environment.\n",
    "\n",
    "    Arguments:\n",
    "      env - A Gymnasium environment created with gym.make()\n",
    "      agent - A DQN instance\n",
    "      episodes - Number of episodes to train the agent for\n",
    "    \"\"\"\n",
    "    rewards = []\n",
    "    for episode in tqdm(range(episodes)):\n",
    "        state, _ = env.reset()\n",
    "        total_reward = 0\n",
    "        done = False\n",
    "\n",
    "        while not done:\n",
    "            # Choose an action using the epsilon-greedy policy\n",
    "            action = agent.choose_action(state)\n",
    "\n",
    "            # Take the action in the environment\n",
    "            next_state, reward, terminated, truncated, _ = env.step(action)\n",
    "            done = terminated or truncated\n",
    "\n",
    "            # Store the experience in the replay buffer\n",
    "            agent.store_experience(state, action, reward, next_state, done)\n",
    "\n",
    "            # Perform a Q-learning update\n",
    "            agent.update()\n",
    "\n",
    "            # Update the state and accumulate the reward\n",
    "            state = next_state\n",
    "            total_reward += reward\n",
    "\n",
    "        rewards.append(total_reward)\n",
    "\n",
    "    # Plot learning progress\n",
    "    plt.plot(rewards)\n",
    "    plt.xlabel(\"Episode\")\n",
    "    plt.ylabel(\"Total Reward\")\n",
    "    plt.title(f\"DQN Learning Progress ({env.spec.id})\")\n",
    "    plt.show()\n",
    "\n",
    "# Set up and train the DQN agent for MountainCar\n",
    "print(\"Training DQN agent on MountainCar...\")\n",
    "env = gym.make(\"MountainCar-v0\")\n",
    "state_dim = env.observation_space.shape[0]\n",
    "action_dim = env.action_space.n\n",
    "dqn_agent = DQN(state_dim, action_dim)\n",
    "train_dqn(env, dqn_agent, episodes=500)\n",
    "\n",
    "# Set up and train the DQN agent for Acrobot\n",
    "print(\"Training DQN agent on Acrobot...\")\n",
    "env = gym.make(\"Acrobot-v1\")\n",
    "state_dim = env.observation_space.shape[0]\n",
    "action_dim = env.action_space.n\n",
    "dqn_agent = DQN(state_dim, action_dim)\n",
    "train_dqn(env, dqn_agent, episodes=500)\n",
    "\n",
    "# Set up and train the DQN agent for LunarLander\n",
    "print(\"Training DQN agent on LunarLander...\")\n",
    "env = gym.make(\"LunarLander-v3\")\n",
    "state_dim = env.observation_space.shape[0]\n",
    "action_dim = env.action_space.n\n",
    "dqn_agent = DQN(state_dim, action_dim)\n",
    "train_dqn(env, dqn_agent, episodes=500)\n"
   ]
  },
  {
   "cell_type": "code",
   "execution_count": 25,
   "id": "Ki9pRBDijIUZ",
   "metadata": {
    "id": "Ki9pRBDijIUZ"
   },
   "outputs": [],
   "source": [
    "def rollout(env, agent, render=True, max_steps=1000):\n",
    "    \"\"\"\n",
    "    Run a single episode with the trained DQN agent.\n",
    "\n",
    "    Arguments:\n",
    "      env - The Gymnasium environment\n",
    "      agent - The trained DQN agent\n",
    "      render - Whether to render the environment\n",
    "      max_steps - Maximum number of steps to run in the environment\n",
    "\n",
    "    Returns:\n",
    "      total_reward - The total reward obtained during the episode\n",
    "    \"\"\"\n",
    "    state, _ = env.reset()\n",
    "    total_reward = 0\n",
    "    steps = 0\n",
    "    done = False\n",
    "\n",
    "    while not done and steps < max_steps:\n",
    "        if render:\n",
    "            env.render()\n",
    "\n",
    "        # Choose the best action based on the Q-network\n",
    "        action = agent.choose_action(state)\n",
    "        next_state, reward, terminated, truncated, _ = env.step(action)\n",
    "\n",
    "        # Update the state and total reward\n",
    "        state = next_state\n",
    "        total_reward += reward\n",
    "        steps += 1\n",
    "\n",
    "        # End the episode if done\n",
    "        done = terminated or truncated\n",
    "\n",
    "    env.close()\n",
    "    print(f\"Total reward: {total_reward}\")\n",
    "    return total_reward"
   ]
  },
  {
   "cell_type": "code",
   "execution_count": null,
   "id": "UmbJ3dWnjKna",
   "metadata": {
    "id": "UmbJ3dWnjKna"
   },
   "outputs": [
    {
     "ename": "RuntimeError",
     "evalue": "mat1 and mat2 shapes cannot be multiplied (1x2 and 6x128)",
     "output_type": "error",
     "traceback": [
      "\u001b[1;31m---------------------------------------------------------------------------\u001b[0m",
      "\u001b[1;31mRuntimeError\u001b[0m                              Traceback (most recent call last)",
      "Cell \u001b[1;32mIn[26], line 5\u001b[0m\n\u001b[0;32m      2\u001b[0m env \u001b[38;5;241m=\u001b[39m gym\u001b[38;5;241m.\u001b[39mmake(MOUNTAIN_CAR, render_mode\u001b[38;5;241m=\u001b[39m\u001b[38;5;124m\"\u001b[39m\u001b[38;5;124mhuman\u001b[39m\u001b[38;5;124m\"\u001b[39m)\n\u001b[0;32m      4\u001b[0m \u001b[38;5;66;03m# Run a rollout\u001b[39;00m\n\u001b[1;32m----> 5\u001b[0m \u001b[43mrollout\u001b[49m\u001b[43m(\u001b[49m\u001b[43menv\u001b[49m\u001b[43m,\u001b[49m\u001b[43m \u001b[49m\u001b[43mdqn_agent\u001b[49m\u001b[43m,\u001b[49m\u001b[43m \u001b[49m\u001b[43mrender\u001b[49m\u001b[38;5;241;43m=\u001b[39;49m\u001b[38;5;28;43;01mTrue\u001b[39;49;00m\u001b[43m,\u001b[49m\u001b[43m \u001b[49m\u001b[43mmax_steps\u001b[49m\u001b[38;5;241;43m=\u001b[39;49m\u001b[38;5;241;43m1000\u001b[39;49m\u001b[43m)\u001b[49m\n\u001b[0;32m      7\u001b[0m \u001b[38;5;66;03m# Repeat this for the other environments\u001b[39;00m\n",
      "Cell \u001b[1;32mIn[25], line 24\u001b[0m, in \u001b[0;36mrollout\u001b[1;34m(env, agent, render, max_steps)\u001b[0m\n\u001b[0;32m     21\u001b[0m     env\u001b[38;5;241m.\u001b[39mrender()\n\u001b[0;32m     23\u001b[0m \u001b[38;5;66;03m# Choose the best action based on the Q-network\u001b[39;00m\n\u001b[1;32m---> 24\u001b[0m action \u001b[38;5;241m=\u001b[39m \u001b[43magent\u001b[49m\u001b[38;5;241;43m.\u001b[39;49m\u001b[43mchoose_action\u001b[49m\u001b[43m(\u001b[49m\u001b[43mstate\u001b[49m\u001b[43m)\u001b[49m\n\u001b[0;32m     25\u001b[0m next_state, reward, terminated, truncated, _ \u001b[38;5;241m=\u001b[39m env\u001b[38;5;241m.\u001b[39mstep(action)\n\u001b[0;32m     27\u001b[0m \u001b[38;5;66;03m# Update the state and total reward\u001b[39;00m\n",
      "Cell \u001b[1;32mIn[22], line 30\u001b[0m, in \u001b[0;36mDQN.choose_action\u001b[1;34m(self, state)\u001b[0m\n\u001b[0;32m     28\u001b[0m \u001b[38;5;28;01mwith\u001b[39;00m torch\u001b[38;5;241m.\u001b[39mno_grad():\n\u001b[0;32m     29\u001b[0m     state_tensor \u001b[38;5;241m=\u001b[39m torch\u001b[38;5;241m.\u001b[39mFloatTensor(state)\u001b[38;5;241m.\u001b[39munsqueeze(\u001b[38;5;241m0\u001b[39m)  \u001b[38;5;66;03m# Add batch dimension\u001b[39;00m\n\u001b[1;32m---> 30\u001b[0m     q_values \u001b[38;5;241m=\u001b[39m \u001b[38;5;28;43mself\u001b[39;49m\u001b[38;5;241;43m.\u001b[39;49m\u001b[43mq_net\u001b[49m\u001b[43m(\u001b[49m\u001b[43mstate_tensor\u001b[49m\u001b[43m)\u001b[49m\n\u001b[0;32m     31\u001b[0m     \u001b[38;5;28;01mreturn\u001b[39;00m q_values\u001b[38;5;241m.\u001b[39margmax()\u001b[38;5;241m.\u001b[39mitem()\n",
      "File \u001b[1;32m~\\AppData\\Roaming\\Python\\Python38\\site-packages\\torch\\nn\\modules\\module.py:1511\u001b[0m, in \u001b[0;36mModule._wrapped_call_impl\u001b[1;34m(self, *args, **kwargs)\u001b[0m\n\u001b[0;32m   1509\u001b[0m     \u001b[38;5;28;01mreturn\u001b[39;00m \u001b[38;5;28mself\u001b[39m\u001b[38;5;241m.\u001b[39m_compiled_call_impl(\u001b[38;5;241m*\u001b[39margs, \u001b[38;5;241m*\u001b[39m\u001b[38;5;241m*\u001b[39mkwargs)  \u001b[38;5;66;03m# type: ignore[misc]\u001b[39;00m\n\u001b[0;32m   1510\u001b[0m \u001b[38;5;28;01melse\u001b[39;00m:\n\u001b[1;32m-> 1511\u001b[0m     \u001b[38;5;28;01mreturn\u001b[39;00m \u001b[38;5;28;43mself\u001b[39;49m\u001b[38;5;241;43m.\u001b[39;49m\u001b[43m_call_impl\u001b[49m\u001b[43m(\u001b[49m\u001b[38;5;241;43m*\u001b[39;49m\u001b[43margs\u001b[49m\u001b[43m,\u001b[49m\u001b[43m \u001b[49m\u001b[38;5;241;43m*\u001b[39;49m\u001b[38;5;241;43m*\u001b[39;49m\u001b[43mkwargs\u001b[49m\u001b[43m)\u001b[49m\n",
      "File \u001b[1;32m~\\AppData\\Roaming\\Python\\Python38\\site-packages\\torch\\nn\\modules\\module.py:1520\u001b[0m, in \u001b[0;36mModule._call_impl\u001b[1;34m(self, *args, **kwargs)\u001b[0m\n\u001b[0;32m   1515\u001b[0m \u001b[38;5;66;03m# If we don't have any hooks, we want to skip the rest of the logic in\u001b[39;00m\n\u001b[0;32m   1516\u001b[0m \u001b[38;5;66;03m# this function, and just call forward.\u001b[39;00m\n\u001b[0;32m   1517\u001b[0m \u001b[38;5;28;01mif\u001b[39;00m \u001b[38;5;129;01mnot\u001b[39;00m (\u001b[38;5;28mself\u001b[39m\u001b[38;5;241m.\u001b[39m_backward_hooks \u001b[38;5;129;01mor\u001b[39;00m \u001b[38;5;28mself\u001b[39m\u001b[38;5;241m.\u001b[39m_backward_pre_hooks \u001b[38;5;129;01mor\u001b[39;00m \u001b[38;5;28mself\u001b[39m\u001b[38;5;241m.\u001b[39m_forward_hooks \u001b[38;5;129;01mor\u001b[39;00m \u001b[38;5;28mself\u001b[39m\u001b[38;5;241m.\u001b[39m_forward_pre_hooks\n\u001b[0;32m   1518\u001b[0m         \u001b[38;5;129;01mor\u001b[39;00m _global_backward_pre_hooks \u001b[38;5;129;01mor\u001b[39;00m _global_backward_hooks\n\u001b[0;32m   1519\u001b[0m         \u001b[38;5;129;01mor\u001b[39;00m _global_forward_hooks \u001b[38;5;129;01mor\u001b[39;00m _global_forward_pre_hooks):\n\u001b[1;32m-> 1520\u001b[0m     \u001b[38;5;28;01mreturn\u001b[39;00m \u001b[43mforward_call\u001b[49m\u001b[43m(\u001b[49m\u001b[38;5;241;43m*\u001b[39;49m\u001b[43margs\u001b[49m\u001b[43m,\u001b[49m\u001b[43m \u001b[49m\u001b[38;5;241;43m*\u001b[39;49m\u001b[38;5;241;43m*\u001b[39;49m\u001b[43mkwargs\u001b[49m\u001b[43m)\u001b[49m\n\u001b[0;32m   1522\u001b[0m \u001b[38;5;28;01mtry\u001b[39;00m:\n\u001b[0;32m   1523\u001b[0m     result \u001b[38;5;241m=\u001b[39m \u001b[38;5;28;01mNone\u001b[39;00m\n",
      "Cell \u001b[1;32mIn[20], line 20\u001b[0m, in \u001b[0;36mQNetwork.forward\u001b[1;34m(self, x)\u001b[0m\n\u001b[0;32m     18\u001b[0m \u001b[38;5;28;01mdef\u001b[39;00m \u001b[38;5;21mforward\u001b[39m(\u001b[38;5;28mself\u001b[39m, x):\n\u001b[0;32m     19\u001b[0m     \u001b[38;5;66;03m# Pass input through the network\u001b[39;00m\n\u001b[1;32m---> 20\u001b[0m     \u001b[38;5;28;01mreturn\u001b[39;00m \u001b[38;5;28;43mself\u001b[39;49m\u001b[38;5;241;43m.\u001b[39;49m\u001b[43mnetwork\u001b[49m\u001b[43m(\u001b[49m\u001b[43mx\u001b[49m\u001b[43m)\u001b[49m\n",
      "File \u001b[1;32m~\\AppData\\Roaming\\Python\\Python38\\site-packages\\torch\\nn\\modules\\module.py:1511\u001b[0m, in \u001b[0;36mModule._wrapped_call_impl\u001b[1;34m(self, *args, **kwargs)\u001b[0m\n\u001b[0;32m   1509\u001b[0m     \u001b[38;5;28;01mreturn\u001b[39;00m \u001b[38;5;28mself\u001b[39m\u001b[38;5;241m.\u001b[39m_compiled_call_impl(\u001b[38;5;241m*\u001b[39margs, \u001b[38;5;241m*\u001b[39m\u001b[38;5;241m*\u001b[39mkwargs)  \u001b[38;5;66;03m# type: ignore[misc]\u001b[39;00m\n\u001b[0;32m   1510\u001b[0m \u001b[38;5;28;01melse\u001b[39;00m:\n\u001b[1;32m-> 1511\u001b[0m     \u001b[38;5;28;01mreturn\u001b[39;00m \u001b[38;5;28;43mself\u001b[39;49m\u001b[38;5;241;43m.\u001b[39;49m\u001b[43m_call_impl\u001b[49m\u001b[43m(\u001b[49m\u001b[38;5;241;43m*\u001b[39;49m\u001b[43margs\u001b[49m\u001b[43m,\u001b[49m\u001b[43m \u001b[49m\u001b[38;5;241;43m*\u001b[39;49m\u001b[38;5;241;43m*\u001b[39;49m\u001b[43mkwargs\u001b[49m\u001b[43m)\u001b[49m\n",
      "File \u001b[1;32m~\\AppData\\Roaming\\Python\\Python38\\site-packages\\torch\\nn\\modules\\module.py:1520\u001b[0m, in \u001b[0;36mModule._call_impl\u001b[1;34m(self, *args, **kwargs)\u001b[0m\n\u001b[0;32m   1515\u001b[0m \u001b[38;5;66;03m# If we don't have any hooks, we want to skip the rest of the logic in\u001b[39;00m\n\u001b[0;32m   1516\u001b[0m \u001b[38;5;66;03m# this function, and just call forward.\u001b[39;00m\n\u001b[0;32m   1517\u001b[0m \u001b[38;5;28;01mif\u001b[39;00m \u001b[38;5;129;01mnot\u001b[39;00m (\u001b[38;5;28mself\u001b[39m\u001b[38;5;241m.\u001b[39m_backward_hooks \u001b[38;5;129;01mor\u001b[39;00m \u001b[38;5;28mself\u001b[39m\u001b[38;5;241m.\u001b[39m_backward_pre_hooks \u001b[38;5;129;01mor\u001b[39;00m \u001b[38;5;28mself\u001b[39m\u001b[38;5;241m.\u001b[39m_forward_hooks \u001b[38;5;129;01mor\u001b[39;00m \u001b[38;5;28mself\u001b[39m\u001b[38;5;241m.\u001b[39m_forward_pre_hooks\n\u001b[0;32m   1518\u001b[0m         \u001b[38;5;129;01mor\u001b[39;00m _global_backward_pre_hooks \u001b[38;5;129;01mor\u001b[39;00m _global_backward_hooks\n\u001b[0;32m   1519\u001b[0m         \u001b[38;5;129;01mor\u001b[39;00m _global_forward_hooks \u001b[38;5;129;01mor\u001b[39;00m _global_forward_pre_hooks):\n\u001b[1;32m-> 1520\u001b[0m     \u001b[38;5;28;01mreturn\u001b[39;00m \u001b[43mforward_call\u001b[49m\u001b[43m(\u001b[49m\u001b[38;5;241;43m*\u001b[39;49m\u001b[43margs\u001b[49m\u001b[43m,\u001b[49m\u001b[43m \u001b[49m\u001b[38;5;241;43m*\u001b[39;49m\u001b[38;5;241;43m*\u001b[39;49m\u001b[43mkwargs\u001b[49m\u001b[43m)\u001b[49m\n\u001b[0;32m   1522\u001b[0m \u001b[38;5;28;01mtry\u001b[39;00m:\n\u001b[0;32m   1523\u001b[0m     result \u001b[38;5;241m=\u001b[39m \u001b[38;5;28;01mNone\u001b[39;00m\n",
      "File \u001b[1;32m~\\AppData\\Roaming\\Python\\Python38\\site-packages\\torch\\nn\\modules\\container.py:217\u001b[0m, in \u001b[0;36mSequential.forward\u001b[1;34m(self, input)\u001b[0m\n\u001b[0;32m    215\u001b[0m \u001b[38;5;28;01mdef\u001b[39;00m \u001b[38;5;21mforward\u001b[39m(\u001b[38;5;28mself\u001b[39m, \u001b[38;5;28minput\u001b[39m):\n\u001b[0;32m    216\u001b[0m     \u001b[38;5;28;01mfor\u001b[39;00m module \u001b[38;5;129;01min\u001b[39;00m \u001b[38;5;28mself\u001b[39m:\n\u001b[1;32m--> 217\u001b[0m         \u001b[38;5;28minput\u001b[39m \u001b[38;5;241m=\u001b[39m \u001b[43mmodule\u001b[49m\u001b[43m(\u001b[49m\u001b[38;5;28;43minput\u001b[39;49m\u001b[43m)\u001b[49m\n\u001b[0;32m    218\u001b[0m     \u001b[38;5;28;01mreturn\u001b[39;00m \u001b[38;5;28minput\u001b[39m\n",
      "File \u001b[1;32m~\\AppData\\Roaming\\Python\\Python38\\site-packages\\torch\\nn\\modules\\module.py:1511\u001b[0m, in \u001b[0;36mModule._wrapped_call_impl\u001b[1;34m(self, *args, **kwargs)\u001b[0m\n\u001b[0;32m   1509\u001b[0m     \u001b[38;5;28;01mreturn\u001b[39;00m \u001b[38;5;28mself\u001b[39m\u001b[38;5;241m.\u001b[39m_compiled_call_impl(\u001b[38;5;241m*\u001b[39margs, \u001b[38;5;241m*\u001b[39m\u001b[38;5;241m*\u001b[39mkwargs)  \u001b[38;5;66;03m# type: ignore[misc]\u001b[39;00m\n\u001b[0;32m   1510\u001b[0m \u001b[38;5;28;01melse\u001b[39;00m:\n\u001b[1;32m-> 1511\u001b[0m     \u001b[38;5;28;01mreturn\u001b[39;00m \u001b[38;5;28;43mself\u001b[39;49m\u001b[38;5;241;43m.\u001b[39;49m\u001b[43m_call_impl\u001b[49m\u001b[43m(\u001b[49m\u001b[38;5;241;43m*\u001b[39;49m\u001b[43margs\u001b[49m\u001b[43m,\u001b[49m\u001b[43m \u001b[49m\u001b[38;5;241;43m*\u001b[39;49m\u001b[38;5;241;43m*\u001b[39;49m\u001b[43mkwargs\u001b[49m\u001b[43m)\u001b[49m\n",
      "File \u001b[1;32m~\\AppData\\Roaming\\Python\\Python38\\site-packages\\torch\\nn\\modules\\module.py:1520\u001b[0m, in \u001b[0;36mModule._call_impl\u001b[1;34m(self, *args, **kwargs)\u001b[0m\n\u001b[0;32m   1515\u001b[0m \u001b[38;5;66;03m# If we don't have any hooks, we want to skip the rest of the logic in\u001b[39;00m\n\u001b[0;32m   1516\u001b[0m \u001b[38;5;66;03m# this function, and just call forward.\u001b[39;00m\n\u001b[0;32m   1517\u001b[0m \u001b[38;5;28;01mif\u001b[39;00m \u001b[38;5;129;01mnot\u001b[39;00m (\u001b[38;5;28mself\u001b[39m\u001b[38;5;241m.\u001b[39m_backward_hooks \u001b[38;5;129;01mor\u001b[39;00m \u001b[38;5;28mself\u001b[39m\u001b[38;5;241m.\u001b[39m_backward_pre_hooks \u001b[38;5;129;01mor\u001b[39;00m \u001b[38;5;28mself\u001b[39m\u001b[38;5;241m.\u001b[39m_forward_hooks \u001b[38;5;129;01mor\u001b[39;00m \u001b[38;5;28mself\u001b[39m\u001b[38;5;241m.\u001b[39m_forward_pre_hooks\n\u001b[0;32m   1518\u001b[0m         \u001b[38;5;129;01mor\u001b[39;00m _global_backward_pre_hooks \u001b[38;5;129;01mor\u001b[39;00m _global_backward_hooks\n\u001b[0;32m   1519\u001b[0m         \u001b[38;5;129;01mor\u001b[39;00m _global_forward_hooks \u001b[38;5;129;01mor\u001b[39;00m _global_forward_pre_hooks):\n\u001b[1;32m-> 1520\u001b[0m     \u001b[38;5;28;01mreturn\u001b[39;00m \u001b[43mforward_call\u001b[49m\u001b[43m(\u001b[49m\u001b[38;5;241;43m*\u001b[39;49m\u001b[43margs\u001b[49m\u001b[43m,\u001b[49m\u001b[43m \u001b[49m\u001b[38;5;241;43m*\u001b[39;49m\u001b[38;5;241;43m*\u001b[39;49m\u001b[43mkwargs\u001b[49m\u001b[43m)\u001b[49m\n\u001b[0;32m   1522\u001b[0m \u001b[38;5;28;01mtry\u001b[39;00m:\n\u001b[0;32m   1523\u001b[0m     result \u001b[38;5;241m=\u001b[39m \u001b[38;5;28;01mNone\u001b[39;00m\n",
      "File \u001b[1;32m~\\AppData\\Roaming\\Python\\Python38\\site-packages\\torch\\nn\\modules\\linear.py:116\u001b[0m, in \u001b[0;36mLinear.forward\u001b[1;34m(self, input)\u001b[0m\n\u001b[0;32m    115\u001b[0m \u001b[38;5;28;01mdef\u001b[39;00m \u001b[38;5;21mforward\u001b[39m(\u001b[38;5;28mself\u001b[39m, \u001b[38;5;28minput\u001b[39m: Tensor) \u001b[38;5;241m-\u001b[39m\u001b[38;5;241m>\u001b[39m Tensor:\n\u001b[1;32m--> 116\u001b[0m     \u001b[38;5;28;01mreturn\u001b[39;00m \u001b[43mF\u001b[49m\u001b[38;5;241;43m.\u001b[39;49m\u001b[43mlinear\u001b[49m\u001b[43m(\u001b[49m\u001b[38;5;28;43minput\u001b[39;49m\u001b[43m,\u001b[49m\u001b[43m \u001b[49m\u001b[38;5;28;43mself\u001b[39;49m\u001b[38;5;241;43m.\u001b[39;49m\u001b[43mweight\u001b[49m\u001b[43m,\u001b[49m\u001b[43m \u001b[49m\u001b[38;5;28;43mself\u001b[39;49m\u001b[38;5;241;43m.\u001b[39;49m\u001b[43mbias\u001b[49m\u001b[43m)\u001b[49m\n",
      "\u001b[1;31mRuntimeError\u001b[0m: mat1 and mat2 shapes cannot be multiplied (1x2 and 6x128)"
     ]
    },
    {
     "ename": "",
     "evalue": "",
     "output_type": "error",
     "traceback": [
      "\u001b[1;31mThe Kernel crashed while executing code in the current cell or a previous cell. \n",
      "\u001b[1;31mPlease review the code in the cell(s) to identify a possible cause of the failure. \n",
      "\u001b[1;31mClick <a href='https://aka.ms/vscodeJupyterKernelCrash'>here</a> for more info. \n",
      "\u001b[1;31mView Jupyter <a href='command:jupyter.viewOutput'>log</a> for further details."
     ]
    }
   ],
   "source": [
    "# Set up the environment for rendering\n",
    "env = gym.make(MOUNTAIN_CAR, render_mode=\"human\")\n",
    "\n",
    "# Run a rollout\n",
    "rollout(env, dqn_agent, render=True, max_steps=1000)\n",
    "\n",
    "# Repeat this for the other environments\n"
   ]
  },
  {
   "cell_type": "markdown",
   "id": "mzSHJC2Pkapy",
   "metadata": {
    "id": "mzSHJC2Pkapy"
   },
   "source": [
    "### Write a brief description on the performance difference between Deep Q-Learning and tabular Q-Learning for each environment"
   ]
  }
 ],
 "metadata": {
  "colab": {
   "collapsed_sections": [
    "8ceca2fd-f2bd-4840-9d95-8f2ecbca1841",
    "0986ccce-9e56-484d-8145-4338c71e541d",
    "1e1bb9d1-57f6-4ef9-ae71-49085c0bec9f",
    "8751d562-e04b-47dd-8894-da7eec6af290",
    "7420ba13-4a2b-4f2d-b360-908b483bdd25"
   ],
   "provenance": []
  },
  "kernelspec": {
   "display_name": "Python 3",
   "language": "python",
   "name": "python3"
  },
  "language_info": {
   "codemirror_mode": {
    "name": "ipython",
    "version": 3
   },
   "file_extension": ".py",
   "mimetype": "text/x-python",
   "name": "python",
   "nbconvert_exporter": "python",
   "pygments_lexer": "ipython3",
   "version": "3.8.2"
  }
 },
 "nbformat": 4,
 "nbformat_minor": 5
}
